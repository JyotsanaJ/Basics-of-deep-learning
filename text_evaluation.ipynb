{
 "cells": [
  {
   "cell_type": "code",
   "execution_count": null,
   "metadata": {},
   "outputs": [],
   "source": [
    "import sys\n",
    "!{sys.executable} -m pip install evaluate"
   ]
  },
  {
   "cell_type": "code",
   "execution_count": 3,
   "metadata": {},
   "outputs": [
    {
     "data": {
      "application/vnd.jupyter.widget-view+json": {
       "model_id": "1aeb1f880e814331a2a9c45167bcc6dc",
       "version_major": 2,
       "version_minor": 0
      },
      "text/plain": [
       "Downloading builder script:   0%|          | 0.00/5.94k [00:00<?, ?B/s]"
      ]
     },
     "metadata": {},
     "output_type": "display_data"
    },
    {
     "data": {
      "application/vnd.jupyter.widget-view+json": {
       "model_id": "d011e3a96d0c41b0b9c8628ac7dd1c84",
       "version_major": 2,
       "version_minor": 0
      },
      "text/plain": [
       "Downloading extra modules:   0%|          | 0.00/1.55k [00:00<?, ?B/s]"
      ]
     },
     "metadata": {},
     "output_type": "display_data"
    },
    {
     "data": {
      "application/vnd.jupyter.widget-view+json": {
       "model_id": "f53bd3fa0c594bbc8449a9e13aac6b42",
       "version_major": 2,
       "version_minor": 0
      },
      "text/plain": [
       "Downloading extra modules:   0%|          | 0.00/3.34k [00:00<?, ?B/s]"
      ]
     },
     "metadata": {},
     "output_type": "display_data"
    },
    {
     "name": "stdout",
     "output_type": "stream",
     "text": [
      "{'bleu': 1.0, 'precisions': [1.0, 1.0, 1.0, 1.0], 'brevity_penalty': 1.0, 'length_ratio': 1.1666666666666667, 'translation_length': 7, 'reference_length': 6}\n"
     ]
    }
   ],
   "source": [
    "import evaluate\n",
    "\n",
    "# Define the candidate predictions and reference sentences\n",
    "predictions = [\"hello there general kenobi\", \"foo bar foobar\"]\n",
    "references = [[\"hello there general kenobi\", \"hello there !\"],[\"foo bar foobar\"]]\n",
    "\n",
    "# Load the BLEU evaluation metric\n",
    "bleu = evaluate.load(\"bleu\")\n",
    "\n",
    "# Compute the BLEU score\n",
    "results = bleu.compute(predictions=predictions, references=references)\n",
    "\n",
    "# Print the results\n",
    "print(results)"
   ]
  },
  {
   "cell_type": "code",
   "execution_count": null,
   "metadata": {},
   "outputs": [],
   "source": [
    "import evaluate\n",
    "\n",
    "# Load the ROUGE evaluation metric\n",
    "rouge = evaluate.load('rouge')\n",
    "\n",
    "# Define the candidate predictions and reference sentences\n",
    "predictions = [\"hello there\", \"general kenobi\"]\n",
    "references = [\"hello there\", \"general kenobi\"]\n",
    "\n",
    "# Compute the ROUGE score\n",
    "results = rouge.compute(predictions=predictions, references=references)\n",
    "\n",
    "# Print the results\n",
    "print(results)"
   ]
  },
  {
   "cell_type": "code",
   "execution_count": 1,
   "metadata": {},
   "outputs": [],
   "source": [
    "import pandas as pd"
   ]
  },
  {
   "cell_type": "code",
   "execution_count": 2,
   "metadata": {},
   "outputs": [],
   "source": [
    "data = pd.read_csv(\"dataset/train.csv\", nrows=200)"
   ]
  },
  {
   "cell_type": "code",
   "execution_count": 3,
   "metadata": {},
   "outputs": [
    {
     "data": {
      "text/html": [
       "<div>\n",
       "<style scoped>\n",
       "    .dataframe tbody tr th:only-of-type {\n",
       "        vertical-align: middle;\n",
       "    }\n",
       "\n",
       "    .dataframe tbody tr th {\n",
       "        vertical-align: top;\n",
       "    }\n",
       "\n",
       "    .dataframe thead th {\n",
       "        text-align: right;\n",
       "    }\n",
       "</style>\n",
       "<table border=\"1\" class=\"dataframe\">\n",
       "  <thead>\n",
       "    <tr style=\"text-align: right;\">\n",
       "      <th></th>\n",
       "      <th>ID</th>\n",
       "      <th>Description</th>\n",
       "      <th>Summary</th>\n",
       "    </tr>\n",
       "  </thead>\n",
       "  <tbody>\n",
       "    <tr>\n",
       "      <th>0</th>\n",
       "      <td>HONEUSHRD71328EXTERNALCZCZ</td>\n",
       "      <td>Join a team recognized for leadership, innovat...</td>\n",
       "      <td>Achieves successful on-site installation, serv...</td>\n",
       "    </tr>\n",
       "    <tr>\n",
       "      <th>1</th>\n",
       "      <td>HILTGLOBALHOT08QSYEXTERNALZHAPAC</td>\n",
       "      <td>为客人提供优质的服务，介绍水疗服务及水疗产品的知识。确保预订系统运作正常。 . 作为水疗中心...</td>\n",
       "      <td>希尔顿在全球 100 多个国家和地区拥有数以千计的酒店，提供无数令人愉悦的机会。 从敞开的大...</td>\n",
       "    </tr>\n",
       "    <tr>\n",
       "      <th>2</th>\n",
       "      <td>HIINGLOBALHOT08MXLEXTERNALENGLOBAL</td>\n",
       "      <td>In addition to performance of the essential fu...</td>\n",
       "      <td>The individual must possess the following know...</td>\n",
       "    </tr>\n",
       "    <tr>\n",
       "      <th>3</th>\n",
       "      <td>ACCOGLOBAL22022956ENGLOBAL</td>\n",
       "      <td>&lt;html&gt;.Overnight 5th Class Power Engineer. As ...</td>\n",
       "      <td>As a certified 5th Class Power Engineer, you w...</td>\n",
       "    </tr>\n",
       "    <tr>\n",
       "      <th>4</th>\n",
       "      <td>FIGLUSJR0225226EXTERNAL</td>\n",
       "      <td>&lt;html&gt;.Performs tasks to ensure compliance wit...</td>\n",
       "      <td>Performs tasks to ensure compliance with work ...</td>\n",
       "    </tr>\n",
       "  </tbody>\n",
       "</table>\n",
       "</div>"
      ],
      "text/plain": [
       "                                   ID  \\\n",
       "0          HONEUSHRD71328EXTERNALCZCZ   \n",
       "1    HILTGLOBALHOT08QSYEXTERNALZHAPAC   \n",
       "2  HIINGLOBALHOT08MXLEXTERNALENGLOBAL   \n",
       "3          ACCOGLOBAL22022956ENGLOBAL   \n",
       "4             FIGLUSJR0225226EXTERNAL   \n",
       "\n",
       "                                         Description  \\\n",
       "0  Join a team recognized for leadership, innovat...   \n",
       "1  为客人提供优质的服务，介绍水疗服务及水疗产品的知识。确保预订系统运作正常。 . 作为水疗中心...   \n",
       "2  In addition to performance of the essential fu...   \n",
       "3  <html>.Overnight 5th Class Power Engineer. As ...   \n",
       "4  <html>.Performs tasks to ensure compliance wit...   \n",
       "\n",
       "                                             Summary  \n",
       "0  Achieves successful on-site installation, serv...  \n",
       "1  希尔顿在全球 100 多个国家和地区拥有数以千计的酒店，提供无数令人愉悦的机会。 从敞开的大...  \n",
       "2  The individual must possess the following know...  \n",
       "3  As a certified 5th Class Power Engineer, you w...  \n",
       "4  Performs tasks to ensure compliance with work ...  "
      ]
     },
     "execution_count": 3,
     "metadata": {},
     "output_type": "execute_result"
    }
   ],
   "source": [
    "data.head()"
   ]
  },
  {
   "cell_type": "code",
   "execution_count": 4,
   "metadata": {},
   "outputs": [
    {
     "name": "stdout",
     "output_type": "stream",
     "text": [
      "Collecting fasttext\n",
      "  Downloading fasttext-0.9.2.tar.gz (68 kB)\n",
      "\u001b[2K     \u001b[90m━━━━━━━━━━━━━━━━━━━━━━━━━━━━━━━━━━━━━━━\u001b[0m \u001b[32m68.8/68.8 kB\u001b[0m \u001b[31m169.2 kB/s\u001b[0m eta \u001b[36m0:00:00\u001b[0ma \u001b[36m0:00:01\u001b[0m\n",
      "\u001b[?25h  Preparing metadata (setup.py) ... \u001b[?25ldone\n",
      "\u001b[?25hRequirement already satisfied: pybind11>=2.2 in /Users/jyotsana/miniforge3/lib/python3.10/site-packages (from fasttext) (2.6.1)\n",
      "Requirement already satisfied: setuptools>=0.7.0 in /Users/jyotsana/miniforge3/lib/python3.10/site-packages (from fasttext) (69.2.0)\n",
      "Requirement already satisfied: numpy in /Users/jyotsana/miniforge3/lib/python3.10/site-packages (from fasttext) (1.26.4)\n",
      "Building wheels for collected packages: fasttext\n",
      "  Building wheel for fasttext (setup.py) ... \u001b[?25ldone\n",
      "\u001b[?25h  Created wheel for fasttext: filename=fasttext-0.9.2-cp310-cp310-macosx_14_0_arm64.whl size=262060 sha256=caf03382be04a5d53aa4f3c083c847d01055b0b833a41ceb8a40ae6d0797d6e7\n",
      "  Stored in directory: /Users/jyotsana/Library/Caches/pip/wheels/a5/13/75/f811c84a8ab36eedbaef977a6a58a98990e8e0f1967f98f394\n",
      "Successfully built fasttext\n",
      "Installing collected packages: fasttext\n",
      "Successfully installed fasttext-0.9.2\n"
     ]
    }
   ],
   "source": [
    "import sys\n",
    "!{sys.executable} -m pip install fasttext"
   ]
  },
  {
   "cell_type": "code",
   "execution_count": 17,
   "metadata": {},
   "outputs": [],
   "source": [
    "import fasttext\n",
    "\n",
    "class LanguageIdentification:\n",
    "\n",
    "    def __init__(self):\n",
    "        pretrained_lang_model = \"model/lid.176.bin\"\n",
    "        self.model = fasttext.load_model(pretrained_lang_model)\n",
    "\n",
    "    def predict_lang(self, text):\n",
    "        predictions = self.model.predict(text, k=1) # returns top 2 matching languages\n",
    "        return predictions[0][0].replace('__label__', '')\n"
   ]
  },
  {
   "cell_type": "code",
   "execution_count": 18,
   "metadata": {},
   "outputs": [
    {
     "name": "stderr",
     "output_type": "stream",
     "text": [
      "Warning : `load_model` does not return WordVectorModel or SupervisedModel any more, but a `FastText` object which is very similar.\n"
     ]
    }
   ],
   "source": [
    "LANGUAGE = LanguageIdentification()\n",
    "data[\"lang\"] = data[\"Description\"].apply(LANGUAGE.predict_lang)"
   ]
  },
  {
   "cell_type": "code",
   "execution_count": 19,
   "metadata": {},
   "outputs": [
    {
     "data": {
      "text/html": [
       "<div>\n",
       "<style scoped>\n",
       "    .dataframe tbody tr th:only-of-type {\n",
       "        vertical-align: middle;\n",
       "    }\n",
       "\n",
       "    .dataframe tbody tr th {\n",
       "        vertical-align: top;\n",
       "    }\n",
       "\n",
       "    .dataframe thead th {\n",
       "        text-align: right;\n",
       "    }\n",
       "</style>\n",
       "<table border=\"1\" class=\"dataframe\">\n",
       "  <thead>\n",
       "    <tr style=\"text-align: right;\">\n",
       "      <th></th>\n",
       "      <th>ID</th>\n",
       "      <th>Description</th>\n",
       "      <th>Summary</th>\n",
       "      <th>lang</th>\n",
       "    </tr>\n",
       "  </thead>\n",
       "  <tbody>\n",
       "    <tr>\n",
       "      <th>0</th>\n",
       "      <td>HONEUSHRD71328EXTERNALCZCZ</td>\n",
       "      <td>Join a team recognized for leadership, innovat...</td>\n",
       "      <td>Achieves successful on-site installation, serv...</td>\n",
       "      <td>en</td>\n",
       "    </tr>\n",
       "    <tr>\n",
       "      <th>1</th>\n",
       "      <td>HILTGLOBALHOT08QSYEXTERNALZHAPAC</td>\n",
       "      <td>为客人提供优质的服务，介绍水疗服务及水疗产品的知识。确保预订系统运作正常。 . 作为水疗中心...</td>\n",
       "      <td>希尔顿在全球 100 多个国家和地区拥有数以千计的酒店，提供无数令人愉悦的机会。 从敞开的大...</td>\n",
       "      <td>zh</td>\n",
       "    </tr>\n",
       "    <tr>\n",
       "      <th>2</th>\n",
       "      <td>HIINGLOBALHOT08MXLEXTERNALENGLOBAL</td>\n",
       "      <td>In addition to performance of the essential fu...</td>\n",
       "      <td>The individual must possess the following know...</td>\n",
       "      <td>en</td>\n",
       "    </tr>\n",
       "    <tr>\n",
       "      <th>3</th>\n",
       "      <td>ACCOGLOBAL22022956ENGLOBAL</td>\n",
       "      <td>&lt;html&gt;.Overnight 5th Class Power Engineer. As ...</td>\n",
       "      <td>As a certified 5th Class Power Engineer, you w...</td>\n",
       "      <td>en</td>\n",
       "    </tr>\n",
       "    <tr>\n",
       "      <th>4</th>\n",
       "      <td>FIGLUSJR0225226EXTERNAL</td>\n",
       "      <td>&lt;html&gt;.Performs tasks to ensure compliance wit...</td>\n",
       "      <td>Performs tasks to ensure compliance with work ...</td>\n",
       "      <td>en</td>\n",
       "    </tr>\n",
       "  </tbody>\n",
       "</table>\n",
       "</div>"
      ],
      "text/plain": [
       "                                   ID  \\\n",
       "0          HONEUSHRD71328EXTERNALCZCZ   \n",
       "1    HILTGLOBALHOT08QSYEXTERNALZHAPAC   \n",
       "2  HIINGLOBALHOT08MXLEXTERNALENGLOBAL   \n",
       "3          ACCOGLOBAL22022956ENGLOBAL   \n",
       "4             FIGLUSJR0225226EXTERNAL   \n",
       "\n",
       "                                         Description  \\\n",
       "0  Join a team recognized for leadership, innovat...   \n",
       "1  为客人提供优质的服务，介绍水疗服务及水疗产品的知识。确保预订系统运作正常。 . 作为水疗中心...   \n",
       "2  In addition to performance of the essential fu...   \n",
       "3  <html>.Overnight 5th Class Power Engineer. As ...   \n",
       "4  <html>.Performs tasks to ensure compliance wit...   \n",
       "\n",
       "                                             Summary lang  \n",
       "0  Achieves successful on-site installation, serv...   en  \n",
       "1  希尔顿在全球 100 多个国家和地区拥有数以千计的酒店，提供无数令人愉悦的机会。 从敞开的大...   zh  \n",
       "2  The individual must possess the following know...   en  \n",
       "3  As a certified 5th Class Power Engineer, you w...   en  \n",
       "4  Performs tasks to ensure compliance with work ...   en  "
      ]
     },
     "execution_count": 19,
     "metadata": {},
     "output_type": "execute_result"
    }
   ],
   "source": [
    "data.head()"
   ]
  },
  {
   "cell_type": "code",
   "execution_count": 20,
   "metadata": {},
   "outputs": [],
   "source": [
    "data=data[data[\"lang\"]==\"en\"]"
   ]
  },
  {
   "cell_type": "code",
   "execution_count": 22,
   "metadata": {},
   "outputs": [
    {
     "name": "stdout",
     "output_type": "stream",
     "text": [
      "<class 'pandas.core.frame.DataFrame'>\n",
      "Index: 170 entries, 0 to 199\n",
      "Data columns (total 4 columns):\n",
      " #   Column       Non-Null Count  Dtype \n",
      "---  ------       --------------  ----- \n",
      " 0   ID           170 non-null    object\n",
      " 1   Description  170 non-null    object\n",
      " 2   Summary      170 non-null    object\n",
      " 3   lang         170 non-null    object\n",
      "dtypes: object(4)\n",
      "memory usage: 6.6+ KB\n"
     ]
    }
   ],
   "source": [
    "data.info()"
   ]
  },
  {
   "cell_type": "code",
   "execution_count": null,
   "metadata": {},
   "outputs": [],
   "source": []
  }
 ],
 "metadata": {
  "kernelspec": {
   "display_name": "base",
   "language": "python",
   "name": "python3"
  },
  "language_info": {
   "codemirror_mode": {
    "name": "ipython",
    "version": 3
   },
   "file_extension": ".py",
   "mimetype": "text/x-python",
   "name": "python",
   "nbconvert_exporter": "python",
   "pygments_lexer": "ipython3",
   "version": "3.10.14"
  }
 },
 "nbformat": 4,
 "nbformat_minor": 2
}
