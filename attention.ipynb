{
 "cells": [
  {
   "cell_type": "code",
   "execution_count": 5,
   "metadata": {},
   "outputs": [],
   "source": [
    "import torch\n",
    "import torch.nn as nn\n",
    "import math"
   ]
  },
  {
   "cell_type": "code",
   "execution_count": 10,
   "metadata": {},
   "outputs": [],
   "source": [
    "# Code implementation of Multi-Head Attention\n",
    "class MultiHeadAttention(nn.Module):\n",
    "    def __init__(self, d_model, num_heads):\n",
    "        super(MultiHeadAttention, self).__init__()\n",
    "        self.num_heads = num_heads\n",
    "        self.d_model = d_model\n",
    "        assert d_model % num_heads == 0\n",
    "        self.depth = d_model // num_heads\n",
    "        \n",
    "        # Linear projections for query, key, and value\n",
    "        self.query_linear = nn.Linear(d_model, d_model)\n",
    "        self.key_linear = nn.Linear(d_model, d_model)\n",
    "        self.value_linear = nn.Linear(d_model, d_model)\n",
    "        \n",
    "        # Output linear projection\n",
    "        self.output_linear = nn.Linear(d_model, d_model)\n",
    "    \n",
    "    def split_heads(self, x):\n",
    "      batch_size, seq_length, d_model = x.size()\n",
    "      return x.view(batch_size, seq_length, self.num_heads, self.depth).transpose(1, 2)\n",
    "    \n",
    "    def forward(self, query, key, value, mask=None):\n",
    "        \n",
    "        # Linear projections\n",
    "        query = self.query_linear(query)\n",
    "        key = self.key_linear(key)\n",
    "        value = self.value_linear(value)\n",
    "        print(\"Linear matrix =\", query.shape)\n",
    "        \n",
    "        # Split heads\n",
    "        query = self.split_heads(query)\n",
    "        key = self.split_heads(key)\n",
    "        value = self.split_heads(value)\n",
    "        print(\"Split head =\", query.shape)\n",
    "        \n",
    "        # Scaled dot-product attention\n",
    "        scores = torch.matmul(query, key.transpose(-2, -1)) / math.sqrt(self.depth)\n",
    "        \n",
    "        # Apply mask if provided\n",
    "        if mask is not None:\n",
    "            scores += scores.masked_fill(mask == 0, -1e9)\n",
    "        \n",
    "        # Compute attention weights and apply softmax\n",
    "        attention_weights = torch.softmax(scores, dim=-1)\n",
    "        print(\"Attention weights before value = \",attention_weights.shape)\n",
    "        \n",
    "        # Apply attention to values\n",
    "        attention_output = torch.matmul(attention_weights, value)\n",
    "        print(\"Attention weights after value = \",attention_output.shape)\n",
    "\n",
    "        \n",
    "        # Merge heads\n",
    "        batch_size, _, seq_length, d_k = attention_output.size()\n",
    "        attention_output = attention_output.transpose(1, 2).contiguous().view(batch_size,\n",
    "        seq_length, self.d_model)\n",
    "        \n",
    "        # Linear projection\n",
    "        attention_output = self.output_linear(attention_output)\n",
    "        \n",
    "        return attention_output"
   ]
  },
  {
   "cell_type": "code",
   "execution_count": 11,
   "metadata": {},
   "outputs": [],
   "source": [
    "# Example usage\n",
    "d_model = 512\n",
    "max_len = 100\n",
    "num_heads = 8\n",
    "d_ff = 2048\n",
    "\n",
    "\n",
    "# Multi-head attention\n",
    "multihead_attn = MultiHeadAttention(d_model, num_heads)\n",
    "\n",
    "# Example input sequence\n",
    "input_sequence = torch.randn(5, max_len, d_model)"
   ]
  },
  {
   "cell_type": "code",
   "execution_count": 12,
   "metadata": {},
   "outputs": [
    {
     "name": "stdout",
     "output_type": "stream",
     "text": [
      "Linear matrix = torch.Size([5, 100, 512])\n",
      "Split head = torch.Size([5, 8, 100, 64])\n",
      "Attention weights before value =  torch.Size([5, 8, 100, 100])\n",
      "Attention weights after value =  torch.Size([5, 8, 100, 64])\n",
      "attention_output shape: torch.Size([5, 100, 512])\n"
     ]
    }
   ],
   "source": [
    "# Multi-head attention\n",
    "attention_output= multihead_attn(input_sequence, input_sequence, input_sequence)\n",
    "print(\"attention_output shape:\", attention_output.shape)"
   ]
  },
  {
   "cell_type": "code",
   "execution_count": null,
   "metadata": {},
   "outputs": [],
   "source": []
  }
 ],
 "metadata": {
  "kernelspec": {
   "display_name": "base",
   "language": "python",
   "name": "python3"
  },
  "language_info": {
   "codemirror_mode": {
    "name": "ipython",
    "version": 3
   },
   "file_extension": ".py",
   "mimetype": "text/x-python",
   "name": "python",
   "nbconvert_exporter": "python",
   "pygments_lexer": "ipython3",
   "version": "3.10.14"
  }
 },
 "nbformat": 4,
 "nbformat_minor": 2
}
