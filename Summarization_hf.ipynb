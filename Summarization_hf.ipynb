{
  "cells": [
    {
      "cell_type": "code",
      "execution_count": 50,
      "metadata": {
        "colab": {
          "base_uri": "https://localhost:8080/"
        },
        "id": "lJkhUrC6IwpG",
        "outputId": "4d4ab696-98d3-44f8-a084-ba5c161b4283"
      },
      "outputs": [
        {
          "name": "stdout",
          "output_type": "stream",
          "text": [
            "  Preparing metadata (setup.py) ... \u001b[?25l\u001b[?25hdone\n",
            "  Building wheel for rouge_score (setup.py) ... \u001b[?25l\u001b[?25hdone\n"
          ]
        }
      ],
      "source": [
        "import sys\n",
        "!{sys.executable} -m pip install -q transformers nltk evaluate accelerate rouge_score"
      ]
    },
    {
      "cell_type": "code",
      "execution_count": 1,
      "metadata": {
        "id": "khf-vPqIIwpG"
      },
      "outputs": [],
      "source": [
        "import pandas as pd\n",
        "# import string\n",
        "import numpy as np\n",
        "import transformers\n",
        "import torch\n",
        "from datasets import load_dataset"
      ]
    },
    {
      "cell_type": "code",
      "execution_count": 15,
      "metadata": {
        "id": "xiHRSi_2IwpG"
      },
      "outputs": [],
      "source": [
        "transformers.logging.set_verbosity_info()"
      ]
    },
    {
      "cell_type": "markdown",
      "metadata": {
        "id": "iWFvmleThZyW"
      },
      "source": [
        "## Clearing of text"
      ]
    },
    {
      "cell_type": "code",
      "execution_count": 42,
      "metadata": {
        "colab": {
          "base_uri": "https://localhost:8080/"
        },
        "id": "_3o0POn3IwpH",
        "outputId": "95e129d6-585e-411f-d548-4bf15b787e77"
      },
      "outputs": [
        {
          "name": "stderr",
          "output_type": "stream",
          "text": [
            "[nltk_data] Downloading package words to /root/nltk_data...\n",
            "[nltk_data]   Package words is already up-to-date!\n"
          ]
        }
      ],
      "source": [
        "import nltk\n",
        "nltk.download('words')\n",
        "words = set(nltk.corpus.words.words())"
      ]
    },
    {
      "cell_type": "code",
      "execution_count": 43,
      "metadata": {
        "id": "_CTG24p9IwpH"
      },
      "outputs": [],
      "source": [
        "device = torch.device(f\"cuda:{0}\" if torch.cuda.is_available() else \"cpu\")"
      ]
    },
    {
      "cell_type": "code",
      "execution_count": 18,
      "metadata": {
        "id": "IfJbznsCOCf4"
      },
      "outputs": [],
      "source": [
        "import csv\n",
        "data = pd.read_csv(\"train.csv\", nrows = 25000)"
      ]
    },
    {
      "cell_type": "code",
      "execution_count": 19,
      "metadata": {
        "colab": {
          "base_uri": "https://localhost:8080/"
        },
        "id": "mAfPXMqQIwpH",
        "outputId": "9f4d2d44-f424-48b1-f600-0021918612e2"
      },
      "outputs": [
        {
          "name": "stdout",
          "output_type": "stream",
          "text": [
            "<class 'pandas.core.frame.DataFrame'>\n",
            "RangeIndex: 25000 entries, 0 to 24999\n",
            "Data columns (total 3 columns):\n",
            " #   Column       Non-Null Count  Dtype \n",
            "---  ------       --------------  ----- \n",
            " 0   ID           25000 non-null  object\n",
            " 1   Description  25000 non-null  object\n",
            " 2   Summary      25000 non-null  object\n",
            "dtypes: object(3)\n",
            "memory usage: 586.1+ KB\n"
          ]
        }
      ],
      "source": [
        "data.info()"
      ]
    },
    {
      "cell_type": "code",
      "execution_count": 20,
      "metadata": {
        "colab": {
          "base_uri": "https://localhost:8080/",
          "height": 224
        },
        "id": "beg9pzlqIwpH",
        "outputId": "666ddda6-645f-4c10-c650-4821f8714822"
      },
      "outputs": [
        {
          "data": {
            "application/vnd.google.colaboratory.intrinsic+json": {
              "summary": "{\n  \"name\": \"data\",\n  \"rows\": 25000,\n  \"fields\": [\n    {\n      \"column\": \"ID\",\n      \"properties\": {\n        \"dtype\": \"string\",\n        \"num_unique_values\": 24997,\n        \"samples\": [\n          \"PHILGLOBAL369325ENEMEA\",\n          \"KSNEUS73155\",\n          \"MASRUSR163559EXTERNALENUS\"\n        ],\n        \"semantic_type\": \"\",\n        \"description\": \"\"\n      }\n    },\n    {\n      \"column\": \"Description\",\n      \"properties\": {\n        \"dtype\": \"string\",\n        \"num_unique_values\": 24985,\n        \"samples\": [\n          \"-Performs scheduled, routine preventive maintenance on a variety of equipment/systems under contract agreement by inspecting, adjusting, cleaning, and calibrating systems and checking out equipment to ensure it's in satisfactory working order. -Completes maintenance, within assigned Labor Load PM hours, in a manner that reduces emergency calls and results in achieving the goal of zero call backs.-Assists with the start-up of new equipment or system installation and makes adjustments as needed to ensure the system is operational. -May plan schedules, lay out basic electrical equipment installations, and assist in the start-up and check-out of new system installations.<h2>-Presents a professional image both in personal and vehicle appearance</h2>.-Performs work assignments in a safe manner and within specified cost limits. -Promotes, builds, and maintains good customer relations and assists with contract retention.<br>-Maintains company propriety and documentation in accordance with established policies; handles proprietary information in the prescribed manner; adheres to and supports Stanley Convergent Security Solutions, Inc</br>. policies and procedures including all safety requirements. -Keeps abreast of changes and new developments in products and technology.<br> Attends and completes training programs as requested</br>. Education/Experience:-Three years experience installing and/or servicing intrusion, fire alarm, access control, and CCTV security systems. -High School Diploma or equivalent -Vocational/Technical Degree in electrical, security, or computer systems preferred -NICET II or III Certification preferred -Lenel, Pro-Watch, Software House, and/or Pitcher Perfect certifications preferred-Bosch, Honeywell, Radionics, or DMP system knowledge preferred-Edwards/EST, Simplex, or GE/Mirtone system knowledge preferred-IP Video and IT experience required -Climb ladders that extend up to 24 ft. in height -Carry items up to 75 pounds -Ability to work on-call on a rotational basis covering after hours & weekend emergency calls\\ud83d\\ude00 . -A valid state driver\\u2019s license, without restrictions is required. Skills:Access control, Cctv, Fire alarm, Ip camera, Installation, Alarm installation, Alarm systems, Electrical, Alarms, Troubleshooting, Install, Low voltage, Cabling, Cat6, Cable, Security installationAdditional Skills & Qualifications:Need to have a good attendance record and be able work flexible hours. Have good communication and customer facing skills. Experience Level:Intermediate Level/Expert level . \\ud83d\\ude07 \\ud83d\\ude05 \",\n          \"<h1>R\\u00e9sum\\u00e9 de la description de poste</h1>. Responsable de la mise en conformit\\u00e9 comptable technique, des contr\\u00f4les internes financiers et op\\u00e9rationnels, de la simplification des processus et de l'excellence op\\u00e9rationnelle afin de fournir des rapports et des analyses financiers exacts et r\\u00e9els. Poss\\u00e8de une connaissance approfondie des meilleures pratiques et de la mani\\u00e8re dont son propre domaine s'int\\u00e8gre aux autres. Poss\\u00e8de une connaissance pratique de la concurrence et des facteurs qui les diff\\u00e9rencient sur le march\\u00e9. Roles and Responsibilities. Responsible for designing and implementing internal controls over financial reporting, including accounting policy implementations, SOX, distributed controllership, process simplification and internal controls over IPP monitoring and risk. Serve as controllership experts on financial system and ERP implementations. Developing specialized depth and/or breadth of expertise in own job discipline or field. Serves as best practice/quality resource. Has awareness of latest functional developments in own area\\ud83d\\ude00 .<h1> Contributes towards strategy and policy development, and ensures delivery within area of responsibility</h1>. Skilled influencer, able to communicate complex messages to others\\ud83d\\ude07 . Acts as a resource for colleagues with less experience. May lead small projects with moderate risks and resource requirements.<br> Explains difficult or sensitive information; works to build consensus</br>. Developing persuasion skills required to influence others on topics within field. Impacts approaches, projects and programs in the functional area or affected business organization and ways of working. Impacts quality, efficiency and effectiveness of own team. Working within broad guidelines and policies, roles at this level have moderate autonomy, requiring high levels of evaluative judgment. Uses judgment to make decisions or solve moderately complex tasks or problems that impact the function. Takes new perspective on existing solutions. Uses technical experience and expertise for data analysis to support recommendations. Uses multiple internal and limited external sources outside of own function to arrive at decisions. Qualifications. Bachelors degree in accounting, finance, or other business related field and 10+ years progressive accounting or finance experience. 2. Demonstrated proficiency in U.S. GAAP, local GAAP and authoritative accounting literature (i\\ud83d\\ude0d .e. FASB pronouncements). Experience working in a global business environment with sound understanding of global process and transactional flows. 3. Excellent verbal and written communication skills and the ability to communicate complex business issues in a clear/concise manner. 4. Strong analytical skills: able to clearly link financial results to operational performance drivers,. generate alternatives and drive positive change. Clear thinking/problem solving: successfully led projects/process improvements within. operations/finance functions; able to quickly grasp new ideas in a complex scenario. Adaptable/Flexible: being open to change in response to new information, different or unexpected circumstances, and/or to work in ambiguous situations. Confidence/Assertiveness: strong leadership skills. Experience leading in a global business environment; minimum of 5 years\\u2019 experience leading team. Inclusion and Diversity. Employment decisions are made without regard to race, color, religion, national or ethnic origin, sex, sexual orientation, gender identity or expression, age, disability, protected veteran status or other characteristics protected by law. Information additionnelle. \",\n          \"Minimum Clearance Required to Start: None. Percentage of Travel Required: Up to 10%. Type of Travel: Continental US.<br> Under minimal direction, you will support quality and mission assurance by ensuring complex electronic, mechanical, and optical components and subassemblies meet program and compliance requirements through inspection and document review activities</br>. The QC Analyst will interface with the quality team, supply chain, and program personnel on material inspection related topics\\ud83d\\ude00 . Conduct mechanical, electrical, optical and opto-electronic component and subassembly inspections, documenting and reporting results to the program team. Perform first article inspections. Review supplier inspection reports to ensure compliance to requirements. Write non-conformance material reports. Support and lead in the development of inspection methods to analyze product quality. Maintain, control and process non-conforming material and the support the various program Material Review Boards. Work with the quality and engineering teams to establish, implement, and execute a quality control plan for incoming inspection for low volume production. Support mission assurance engineers and supply chain during inspection related discussions with \\u2019s suppliers\\ud83d\\ude0d . Maintain the photonics quality labs inspection equipment and area cleanliness. Support the photonics quality team as needed. If required, obtain/retain a government security clearance at the level to perform the job. Ability to read engineering documentation (drawings, models, specifications), interpret drawing dimensions, features, and parts lists, develop inspection plans. Prior experience using hand tools (micrometers, dial indicators, etc.), Proficiency in data collection. Experience working in an ISO9001/AS9100 quality system\\ud83d\\ude12 . Understanding of fundamental engineering principles and practices. Excellent written and oral communication skills as well as strong interpersonal, problem solving and time management skills. Ability to work independently.<br> Must Be A US Citizen</br>. Technical diploma and a minimum of 5 years of related work experience.<br> Certified Quality Inspector (CQI), Certified Quality Engineer (CQE), or similar certification preferred</br>. Experience with optical devices and optical fiber preferred. Knowledge of and experience in Printed Circuit Board Workmanship standards (IPC 600, 610, J-Std) and inspection methods. Demonstrated competence in electro-static discharge (ESD) environment. Company Overview: At , you will have the opportunity to make an immediate impact by providing information solutions and services in support of national security missions and government transformation for Intelligence, Defense, and Federal Civilian customers. \"\n        ],\n        \"semantic_type\": \"\",\n        \"description\": \"\"\n      }\n    },\n    {\n      \"column\": \"Summary\",\n      \"properties\": {\n        \"dtype\": \"string\",\n        \"num_unique_values\": 21680,\n        \"samples\": [\n          \"Documents intraoperative anesthesia care on intra-op anesthesia record, including but not limited to charting vital signs, drug deliveries, fluid and blood deliveries, fluid loss, events and their times,...\",\n          \"Description. Utilizes nursing assessment skills and clinical protocol guidelines in a decision making capacity to provide timely and efficient patient care. Graduate of an accredited nursing program. Current...\",\n          \"A Gastronimic Chef is responsible for contributing to menu creation and taking a leadership role in the kitchen to deliver an excellent Guest and Member experience while requisitioning food and managing...\"\n        ],\n        \"semantic_type\": \"\",\n        \"description\": \"\"\n      }\n    }\n  ]\n}",
              "type": "dataframe",
              "variable_name": "data"
            },
            "text/html": [
              "\n",
              "  <div id=\"df-fc06eee3-c326-429d-9b64-67caefae495b\" class=\"colab-df-container\">\n",
              "    <div>\n",
              "<style scoped>\n",
              "    .dataframe tbody tr th:only-of-type {\n",
              "        vertical-align: middle;\n",
              "    }\n",
              "\n",
              "    .dataframe tbody tr th {\n",
              "        vertical-align: top;\n",
              "    }\n",
              "\n",
              "    .dataframe thead th {\n",
              "        text-align: right;\n",
              "    }\n",
              "</style>\n",
              "<table border=\"1\" class=\"dataframe\">\n",
              "  <thead>\n",
              "    <tr style=\"text-align: right;\">\n",
              "      <th></th>\n",
              "      <th>ID</th>\n",
              "      <th>Description</th>\n",
              "      <th>Summary</th>\n",
              "    </tr>\n",
              "  </thead>\n",
              "  <tbody>\n",
              "    <tr>\n",
              "      <th>0</th>\n",
              "      <td>HONEUSHRD71328EXTERNALCZCZ</td>\n",
              "      <td>Join a team recognized for leadership, innovat...</td>\n",
              "      <td>Achieves successful on-site installation, serv...</td>\n",
              "    </tr>\n",
              "    <tr>\n",
              "      <th>1</th>\n",
              "      <td>HILTGLOBALHOT08QSYEXTERNALZHAPAC</td>\n",
              "      <td>为客人提供优质的服务，介绍水疗服务及水疗产品的知识。确保预订系统运作正常。 . 作为水疗中心...</td>\n",
              "      <td>希尔顿在全球 100 多个国家和地区拥有数以千计的酒店，提供无数令人愉悦的机会。 从敞开的大...</td>\n",
              "    </tr>\n",
              "    <tr>\n",
              "      <th>2</th>\n",
              "      <td>HIINGLOBALHOT08MXLEXTERNALENGLOBAL</td>\n",
              "      <td>In addition to performance of the essential fu...</td>\n",
              "      <td>The individual must possess the following know...</td>\n",
              "    </tr>\n",
              "    <tr>\n",
              "      <th>3</th>\n",
              "      <td>ACCOGLOBAL22022956ENGLOBAL</td>\n",
              "      <td>&lt;html&gt;.Overnight 5th Class Power Engineer. As ...</td>\n",
              "      <td>As a certified 5th Class Power Engineer, you w...</td>\n",
              "    </tr>\n",
              "    <tr>\n",
              "      <th>4</th>\n",
              "      <td>FIGLUSJR0225226EXTERNAL</td>\n",
              "      <td>&lt;html&gt;.Performs tasks to ensure compliance wit...</td>\n",
              "      <td>Performs tasks to ensure compliance with work ...</td>\n",
              "    </tr>\n",
              "  </tbody>\n",
              "</table>\n",
              "</div>\n",
              "    <div class=\"colab-df-buttons\">\n",
              "\n",
              "  <div class=\"colab-df-container\">\n",
              "    <button class=\"colab-df-convert\" onclick=\"convertToInteractive('df-fc06eee3-c326-429d-9b64-67caefae495b')\"\n",
              "            title=\"Convert this dataframe to an interactive table.\"\n",
              "            style=\"display:none;\">\n",
              "\n",
              "  <svg xmlns=\"http://www.w3.org/2000/svg\" height=\"24px\" viewBox=\"0 -960 960 960\">\n",
              "    <path d=\"M120-120v-720h720v720H120Zm60-500h600v-160H180v160Zm220 220h160v-160H400v160Zm0 220h160v-160H400v160ZM180-400h160v-160H180v160Zm440 0h160v-160H620v160ZM180-180h160v-160H180v160Zm440 0h160v-160H620v160Z\"/>\n",
              "  </svg>\n",
              "    </button>\n",
              "\n",
              "  <style>\n",
              "    .colab-df-container {\n",
              "      display:flex;\n",
              "      gap: 12px;\n",
              "    }\n",
              "\n",
              "    .colab-df-convert {\n",
              "      background-color: #E8F0FE;\n",
              "      border: none;\n",
              "      border-radius: 50%;\n",
              "      cursor: pointer;\n",
              "      display: none;\n",
              "      fill: #1967D2;\n",
              "      height: 32px;\n",
              "      padding: 0 0 0 0;\n",
              "      width: 32px;\n",
              "    }\n",
              "\n",
              "    .colab-df-convert:hover {\n",
              "      background-color: #E2EBFA;\n",
              "      box-shadow: 0px 1px 2px rgba(60, 64, 67, 0.3), 0px 1px 3px 1px rgba(60, 64, 67, 0.15);\n",
              "      fill: #174EA6;\n",
              "    }\n",
              "\n",
              "    .colab-df-buttons div {\n",
              "      margin-bottom: 4px;\n",
              "    }\n",
              "\n",
              "    [theme=dark] .colab-df-convert {\n",
              "      background-color: #3B4455;\n",
              "      fill: #D2E3FC;\n",
              "    }\n",
              "\n",
              "    [theme=dark] .colab-df-convert:hover {\n",
              "      background-color: #434B5C;\n",
              "      box-shadow: 0px 1px 3px 1px rgba(0, 0, 0, 0.15);\n",
              "      filter: drop-shadow(0px 1px 2px rgba(0, 0, 0, 0.3));\n",
              "      fill: #FFFFFF;\n",
              "    }\n",
              "  </style>\n",
              "\n",
              "    <script>\n",
              "      const buttonEl =\n",
              "        document.querySelector('#df-fc06eee3-c326-429d-9b64-67caefae495b button.colab-df-convert');\n",
              "      buttonEl.style.display =\n",
              "        google.colab.kernel.accessAllowed ? 'block' : 'none';\n",
              "\n",
              "      async function convertToInteractive(key) {\n",
              "        const element = document.querySelector('#df-fc06eee3-c326-429d-9b64-67caefae495b');\n",
              "        const dataTable =\n",
              "          await google.colab.kernel.invokeFunction('convertToInteractive',\n",
              "                                                    [key], {});\n",
              "        if (!dataTable) return;\n",
              "\n",
              "        const docLinkHtml = 'Like what you see? Visit the ' +\n",
              "          '<a target=\"_blank\" href=https://colab.research.google.com/notebooks/data_table.ipynb>data table notebook</a>'\n",
              "          + ' to learn more about interactive tables.';\n",
              "        element.innerHTML = '';\n",
              "        dataTable['output_type'] = 'display_data';\n",
              "        await google.colab.output.renderOutput(dataTable, element);\n",
              "        const docLink = document.createElement('div');\n",
              "        docLink.innerHTML = docLinkHtml;\n",
              "        element.appendChild(docLink);\n",
              "      }\n",
              "    </script>\n",
              "  </div>\n",
              "\n",
              "\n",
              "<div id=\"df-ac13fbfb-9719-440d-af22-bbf06f0168ed\">\n",
              "  <button class=\"colab-df-quickchart\" onclick=\"quickchart('df-ac13fbfb-9719-440d-af22-bbf06f0168ed')\"\n",
              "            title=\"Suggest charts\"\n",
              "            style=\"display:none;\">\n",
              "\n",
              "<svg xmlns=\"http://www.w3.org/2000/svg\" height=\"24px\"viewBox=\"0 0 24 24\"\n",
              "     width=\"24px\">\n",
              "    <g>\n",
              "        <path d=\"M19 3H5c-1.1 0-2 .9-2 2v14c0 1.1.9 2 2 2h14c1.1 0 2-.9 2-2V5c0-1.1-.9-2-2-2zM9 17H7v-7h2v7zm4 0h-2V7h2v10zm4 0h-2v-4h2v4z\"/>\n",
              "    </g>\n",
              "</svg>\n",
              "  </button>\n",
              "\n",
              "<style>\n",
              "  .colab-df-quickchart {\n",
              "      --bg-color: #E8F0FE;\n",
              "      --fill-color: #1967D2;\n",
              "      --hover-bg-color: #E2EBFA;\n",
              "      --hover-fill-color: #174EA6;\n",
              "      --disabled-fill-color: #AAA;\n",
              "      --disabled-bg-color: #DDD;\n",
              "  }\n",
              "\n",
              "  [theme=dark] .colab-df-quickchart {\n",
              "      --bg-color: #3B4455;\n",
              "      --fill-color: #D2E3FC;\n",
              "      --hover-bg-color: #434B5C;\n",
              "      --hover-fill-color: #FFFFFF;\n",
              "      --disabled-bg-color: #3B4455;\n",
              "      --disabled-fill-color: #666;\n",
              "  }\n",
              "\n",
              "  .colab-df-quickchart {\n",
              "    background-color: var(--bg-color);\n",
              "    border: none;\n",
              "    border-radius: 50%;\n",
              "    cursor: pointer;\n",
              "    display: none;\n",
              "    fill: var(--fill-color);\n",
              "    height: 32px;\n",
              "    padding: 0;\n",
              "    width: 32px;\n",
              "  }\n",
              "\n",
              "  .colab-df-quickchart:hover {\n",
              "    background-color: var(--hover-bg-color);\n",
              "    box-shadow: 0 1px 2px rgba(60, 64, 67, 0.3), 0 1px 3px 1px rgba(60, 64, 67, 0.15);\n",
              "    fill: var(--button-hover-fill-color);\n",
              "  }\n",
              "\n",
              "  .colab-df-quickchart-complete:disabled,\n",
              "  .colab-df-quickchart-complete:disabled:hover {\n",
              "    background-color: var(--disabled-bg-color);\n",
              "    fill: var(--disabled-fill-color);\n",
              "    box-shadow: none;\n",
              "  }\n",
              "\n",
              "  .colab-df-spinner {\n",
              "    border: 2px solid var(--fill-color);\n",
              "    border-color: transparent;\n",
              "    border-bottom-color: var(--fill-color);\n",
              "    animation:\n",
              "      spin 1s steps(1) infinite;\n",
              "  }\n",
              "\n",
              "  @keyframes spin {\n",
              "    0% {\n",
              "      border-color: transparent;\n",
              "      border-bottom-color: var(--fill-color);\n",
              "      border-left-color: var(--fill-color);\n",
              "    }\n",
              "    20% {\n",
              "      border-color: transparent;\n",
              "      border-left-color: var(--fill-color);\n",
              "      border-top-color: var(--fill-color);\n",
              "    }\n",
              "    30% {\n",
              "      border-color: transparent;\n",
              "      border-left-color: var(--fill-color);\n",
              "      border-top-color: var(--fill-color);\n",
              "      border-right-color: var(--fill-color);\n",
              "    }\n",
              "    40% {\n",
              "      border-color: transparent;\n",
              "      border-right-color: var(--fill-color);\n",
              "      border-top-color: var(--fill-color);\n",
              "    }\n",
              "    60% {\n",
              "      border-color: transparent;\n",
              "      border-right-color: var(--fill-color);\n",
              "    }\n",
              "    80% {\n",
              "      border-color: transparent;\n",
              "      border-right-color: var(--fill-color);\n",
              "      border-bottom-color: var(--fill-color);\n",
              "    }\n",
              "    90% {\n",
              "      border-color: transparent;\n",
              "      border-bottom-color: var(--fill-color);\n",
              "    }\n",
              "  }\n",
              "</style>\n",
              "\n",
              "  <script>\n",
              "    async function quickchart(key) {\n",
              "      const quickchartButtonEl =\n",
              "        document.querySelector('#' + key + ' button');\n",
              "      quickchartButtonEl.disabled = true;  // To prevent multiple clicks.\n",
              "      quickchartButtonEl.classList.add('colab-df-spinner');\n",
              "      try {\n",
              "        const charts = await google.colab.kernel.invokeFunction(\n",
              "            'suggestCharts', [key], {});\n",
              "      } catch (error) {\n",
              "        console.error('Error during call to suggestCharts:', error);\n",
              "      }\n",
              "      quickchartButtonEl.classList.remove('colab-df-spinner');\n",
              "      quickchartButtonEl.classList.add('colab-df-quickchart-complete');\n",
              "    }\n",
              "    (() => {\n",
              "      let quickchartButtonEl =\n",
              "        document.querySelector('#df-ac13fbfb-9719-440d-af22-bbf06f0168ed button');\n",
              "      quickchartButtonEl.style.display =\n",
              "        google.colab.kernel.accessAllowed ? 'block' : 'none';\n",
              "    })();\n",
              "  </script>\n",
              "</div>\n",
              "\n",
              "    </div>\n",
              "  </div>\n"
            ],
            "text/plain": [
              "                                   ID  \\\n",
              "0          HONEUSHRD71328EXTERNALCZCZ   \n",
              "1    HILTGLOBALHOT08QSYEXTERNALZHAPAC   \n",
              "2  HIINGLOBALHOT08MXLEXTERNALENGLOBAL   \n",
              "3          ACCOGLOBAL22022956ENGLOBAL   \n",
              "4             FIGLUSJR0225226EXTERNAL   \n",
              "\n",
              "                                         Description  \\\n",
              "0  Join a team recognized for leadership, innovat...   \n",
              "1  为客人提供优质的服务，介绍水疗服务及水疗产品的知识。确保预订系统运作正常。 . 作为水疗中心...   \n",
              "2  In addition to performance of the essential fu...   \n",
              "3  <html>.Overnight 5th Class Power Engineer. As ...   \n",
              "4  <html>.Performs tasks to ensure compliance wit...   \n",
              "\n",
              "                                             Summary  \n",
              "0  Achieves successful on-site installation, serv...  \n",
              "1  希尔顿在全球 100 多个国家和地区拥有数以千计的酒店，提供无数令人愉悦的机会。 从敞开的大...  \n",
              "2  The individual must possess the following know...  \n",
              "3  As a certified 5th Class Power Engineer, you w...  \n",
              "4  Performs tasks to ensure compliance with work ...  "
            ]
          },
          "execution_count": 20,
          "metadata": {},
          "output_type": "execute_result"
        }
      ],
      "source": [
        "data.head()"
      ]
    },
    {
      "cell_type": "markdown",
      "metadata": {
        "id": "AfC-UmMrIwpI"
      },
      "source": [
        "## Clean Data"
      ]
    },
    {
      "cell_type": "markdown",
      "metadata": {},
      "source": [
        "Use map with datasets to have parallel processing and having faster data cleaning"
      ]
    },
    {
      "cell_type": "code",
      "execution_count": 21,
      "metadata": {
        "id": "eBbJi1inIwpI"
      },
      "outputs": [],
      "source": [
        "def remove_htmltags(df):\n",
        "  df['Description'] = df['Description'].str.replace(r'<[^<>]*>', '', regex=True)\n",
        "  df['Summary'] = df['Summary'].str.replace(r'<[^<>]*>', '', regex=True)\n",
        "  return df\n",
        "\n",
        "data = remove_htmltags(data)"
      ]
    },
    {
      "cell_type": "code",
      "execution_count": 39,
      "metadata": {
        "id": "svRlenFLquvW"
      },
      "outputs": [],
      "source": [
        "def remove_non_english_text(sent):\n",
        "    return \" \".join(w for w in nltk.wordpunct_tokenize(sent) if w.lower() in words)"
      ]
    },
    {
      "cell_type": "code",
      "execution_count": 22,
      "metadata": {
        "id": "L3E5Q1w_IwpI"
      },
      "outputs": [],
      "source": [
        "def filter_non_english(df):\n",
        "  df[\"Description\"] = df['Description'].apply(remove_non_english_text)\n",
        "  df[\"Summary\"] = df['Summary'].apply(remove_non_english_text)\n",
        "  return df\n",
        "\n",
        "data = filter_non_english(data)\n"
      ]
    },
    {
      "cell_type": "code",
      "execution_count": 40,
      "metadata": {
        "id": "C4P6atraqxxl"
      },
      "outputs": [],
      "source": [
        "punctuations = \"!\"#$%&'()*+, -/:;<=>?@[\\]^_`{|}~\"\n",
        "\n",
        "def remove_punctuations(text):\n",
        "    return text.translate(str.maketrans(\"\",\"\", punctuations))"
      ]
    },
    {
      "cell_type": "code",
      "execution_count": 23,
      "metadata": {
        "id": "HXj99CkqIwpI"
      },
      "outputs": [],
      "source": [
        "data[\"Description\"] = data[\"Description\"].apply(remove_punctuations)\n",
        "data[\"Summary\"] = data[\"Summary\"].apply(remove_punctuations)"
      ]
    },
    {
      "cell_type": "code",
      "execution_count": 24,
      "metadata": {
        "id": "pZ8BrpARIwpI"
      },
      "outputs": [],
      "source": [
        "data = data.replace(r'^\\s*$', np.nan, regex=True)"
      ]
    },
    {
      "cell_type": "code",
      "execution_count": null,
      "metadata": {
        "id": "mgx9dnjNpdNF"
      },
      "outputs": [],
      "source": [
        "def clean_text_pipeline(df):\n",
        "  df['Description'] = df['Description'].str.replace(r'<[^<>]*>', '', regex=True)\n",
        "  df['Summary'] = df['Summary'].str.replace(r'<[^<>]*>', '', regex=True)\n",
        "\n",
        "  df[\"Description\"] = df['Description'].apply(remove_non_english_text)\n",
        "  df[\"Summary\"] = df['Summary'].apply(remove_non_english_text)\n",
        "\n",
        "  df[\"Description\"] = df[\"Description\"].apply(remove_punctuations)\n",
        "  df[\"Summary\"] = df[\"Summary\"].apply(remove_punctuations)\n",
        "\n",
        "  df = df.replace(r'^\\s*$', np.nan, regex=True)\n",
        "  return df\n"
      ]
    },
    {
      "cell_type": "code",
      "execution_count": 25,
      "metadata": {
        "colab": {
          "base_uri": "https://localhost:8080/"
        },
        "id": "Wkcs0qQeIwpI",
        "outputId": "54b88f35-6e17-4b2c-c312-66f73004540c"
      },
      "outputs": [
        {
          "data": {
            "text/plain": [
              "ID             False\n",
              "Description     True\n",
              "Summary         True\n",
              "dtype: bool"
            ]
          },
          "execution_count": 25,
          "metadata": {},
          "output_type": "execute_result"
        }
      ],
      "source": [
        "data.isna().any()"
      ]
    },
    {
      "cell_type": "code",
      "execution_count": 26,
      "metadata": {
        "id": "ZI9UA-acIwpJ"
      },
      "outputs": [],
      "source": [
        "data.dropna(inplace=True)"
      ]
    },
    {
      "cell_type": "code",
      "execution_count": 27,
      "metadata": {
        "colab": {
          "base_uri": "https://localhost:8080/"
        },
        "id": "44GJiZi8IwpJ",
        "outputId": "4c994dd4-f804-446f-9d78-5c1a17fcfd08"
      },
      "outputs": [
        {
          "data": {
            "text/plain": [
              "ID             False\n",
              "Description    False\n",
              "Summary        False\n",
              "dtype: bool"
            ]
          },
          "execution_count": 27,
          "metadata": {},
          "output_type": "execute_result"
        }
      ],
      "source": [
        "data.isna().any()"
      ]
    },
    {
      "cell_type": "code",
      "execution_count": 28,
      "metadata": {
        "colab": {
          "base_uri": "https://localhost:8080/",
          "height": 206
        },
        "id": "YfyTVIAZIwpJ",
        "outputId": "6f7e7876-ee68-40dc-87e2-04f30f771ff6"
      },
      "outputs": [
        {
          "data": {
            "application/vnd.google.colaboratory.intrinsic+json": {
              "summary": "{\n  \"name\": \"data\",\n  \"rows\": 24723,\n  \"fields\": [\n    {\n      \"column\": \"ID\",\n      \"properties\": {\n        \"dtype\": \"string\",\n        \"num_unique_values\": 24720,\n        \"samples\": [\n          \"GE11GLOBALR3663722INTERNALDEDE\",\n          \"TESYUSJP-003034080fr_CA\",\n          \"KUNAGLOBALREQ93609EXTERNALPLPL\"\n        ],\n        \"semantic_type\": \"\",\n        \"description\": \"\"\n      }\n    },\n    {\n      \"column\": \"Description\",\n      \"properties\": {\n        \"dtype\": \"string\",\n        \"num_unique_values\": 23171,\n        \"samples\": [\n          \"Experienced relevant of work and education Education Desired General Equivalency Diploma Travel Percentage Are you curious and forward thinking At you have the opportunity to work on some of the most and relevant in financial and technology Provide banking customer service via phone and virtual chat Serve as primary contact for inbound customer Update customer information and ensure accurate entry of contact information customer and identify root cause of Track and document inbound support Excellent customer service that build high of customer satisfaction Ability to work a flexible schedule and Excellent verbal and written communication Effective people and when dealing with Banking or financial industry experience Experience working with basic technical in a banking environment A modern international work environment and a and team Vaccination Notice to all US All must be fully against COVID The is the Law poster is available here supplement document available here Disclaimer In this job description care was taken to include all to successfully perform in this position Model\",\n          \"Minimum Clearance to Start with Polygraph Percentage of Travel Up to Acquisition Logistics Support Company Overview At you will have the opportunity to make an immediate impact by providing information and in support of national security and government transformation for Intelligence Defense and Federal Civilian\",\n          \"This role is responsible for providing technical support to the concerned Zonal team by technical training related to animal health and to and in the technical to field along with team meeting Veterinary of field and for of technical with Corporate and Diagnostic laboratory in disease surveillance customer and field Customer Meeting in a group to create awareness about relevant scientific and with an objective to become a partner of choice among Special Focus on Key with Key account and team to define key success in each key account and customer and and a comprehensive Tech service plan for our gains Technical Up gradation of team in assigned geography ahead of curve for recent technical development in Poultry Ruminant Industry and prepare internal to provide customer support Technical Manager to leverage Global technical Outbreak management Attend to investigate customer related to Poultry as within the business sphere and provide and counsel the for overall Peer feedback in the process is sent to relevant Local Clinical and Market support in guidance of Publication of Clinical Market Support Study Outcome in relevant peer Scientific Supervise and provide timely and effective technical which maximize selling Assure that from are thoroughly and correctly in an accurate and timely fashion Strong Collaboration with Team for our diagnostic support to Collaboration with relevant Technical Veterinary Education in assigned to further improve our image as Science Driven Organization Resource the useful technical from scientific fraternity for the Blue Cross Book in order to the technical knowledge of the field veterinary staff Role Technical support to for Ensure compliance in Veterinary Preferred Minimum of field experience to handle all field and provide technical to the customer needs Strong communication Fluency in local language preferred For more than a century we have been for life forward and for many of the world s most You can put your empathy creativity digital mastery or scientific genius to work in collaboration with a diverse group of who pursue and bring hope to countless people who are some of the most of our time Our team is constantly so if you are among the intellectually curious join us and start making your impact today The way to breakthrough innovation is when diverse come together in an inclusive environment Current apply HERE Current Contingent apply HERE Search Firm Please Read Carefully also known as Sharp does not accept unsolicited assistance from search for employment All by search to any employee at our company without a valid written search agreement in place for this position will be the sole property of our company No fee will be in the event a candidate is hired by our company as a result of an agency referral where no agreement is in place Relocation VISA Sponsorship Travel Flexible Work Valid Driving License Hazardous Material s\"\n        ],\n        \"semantic_type\": \"\",\n        \"description\": \"\"\n      }\n    },\n    {\n      \"column\": \"Summary\",\n      \"properties\": {\n        \"dtype\": \"string\",\n        \"num_unique_values\": 21297,\n        \"samples\": [\n          \"of up to per week A confident candidate with a strong ability in and problem You thrive in a customer service environment and enjoy talking to internal and external\",\n          \"with or emergency for sudden adverse in within the department and or environment and and chamber that are designed\",\n          \"Conceptualize develop implement the International Supply Chain inbound outbound marketing strategy You will play an integral role within a fast moving and dynamic team who ensure the operational\"\n        ],\n        \"semantic_type\": \"\",\n        \"description\": \"\"\n      }\n    }\n  ]\n}",
              "type": "dataframe",
              "variable_name": "data"
            },
            "text/html": [
              "\n",
              "  <div id=\"df-e1e1460e-6c74-4e98-9368-f9b78ce06d77\" class=\"colab-df-container\">\n",
              "    <div>\n",
              "<style scoped>\n",
              "    .dataframe tbody tr th:only-of-type {\n",
              "        vertical-align: middle;\n",
              "    }\n",
              "\n",
              "    .dataframe tbody tr th {\n",
              "        vertical-align: top;\n",
              "    }\n",
              "\n",
              "    .dataframe thead th {\n",
              "        text-align: right;\n",
              "    }\n",
              "</style>\n",
              "<table border=\"1\" class=\"dataframe\">\n",
              "  <thead>\n",
              "    <tr style=\"text-align: right;\">\n",
              "      <th></th>\n",
              "      <th>ID</th>\n",
              "      <th>Description</th>\n",
              "      <th>Summary</th>\n",
              "    </tr>\n",
              "  </thead>\n",
              "  <tbody>\n",
              "    <tr>\n",
              "      <th>0</th>\n",
              "      <td>HONEUSHRD71328EXTERNALCZCZ</td>\n",
              "      <td>Join a team for leadership innovation and dive...</td>\n",
              "      <td>successful on site installation and repair of ...</td>\n",
              "    </tr>\n",
              "    <tr>\n",
              "      <th>2</th>\n",
              "      <td>HIINGLOBALHOT08MXLEXTERNALENGLOBAL</td>\n",
              "      <td>In addition to performance of the essential th...</td>\n",
              "      <td>The individual must possess the following know...</td>\n",
              "    </tr>\n",
              "    <tr>\n",
              "      <th>3</th>\n",
              "      <td>ACCOGLOBAL22022956ENGLOBAL</td>\n",
              "      <td>Overnight Class Power Engineer As a certified ...</td>\n",
              "      <td>As a certified Class Power Engineer you will p...</td>\n",
              "    </tr>\n",
              "    <tr>\n",
              "      <th>4</th>\n",
              "      <td>FIGLUSJR0225226EXTERNAL</td>\n",
              "      <td>to ensure compliance with work group and clien...</td>\n",
              "      <td>to ensure compliance with work group and clien...</td>\n",
              "    </tr>\n",
              "    <tr>\n",
              "      <th>5</th>\n",
              "      <td>COGRAU48055EXTERNALENAU</td>\n",
              "      <td>You find us working across all business at Liq...</td>\n",
              "      <td>As a Space Manager for Meat Bakery and you wil...</td>\n",
              "    </tr>\n",
              "  </tbody>\n",
              "</table>\n",
              "</div>\n",
              "    <div class=\"colab-df-buttons\">\n",
              "\n",
              "  <div class=\"colab-df-container\">\n",
              "    <button class=\"colab-df-convert\" onclick=\"convertToInteractive('df-e1e1460e-6c74-4e98-9368-f9b78ce06d77')\"\n",
              "            title=\"Convert this dataframe to an interactive table.\"\n",
              "            style=\"display:none;\">\n",
              "\n",
              "  <svg xmlns=\"http://www.w3.org/2000/svg\" height=\"24px\" viewBox=\"0 -960 960 960\">\n",
              "    <path d=\"M120-120v-720h720v720H120Zm60-500h600v-160H180v160Zm220 220h160v-160H400v160Zm0 220h160v-160H400v160ZM180-400h160v-160H180v160Zm440 0h160v-160H620v160ZM180-180h160v-160H180v160Zm440 0h160v-160H620v160Z\"/>\n",
              "  </svg>\n",
              "    </button>\n",
              "\n",
              "  <style>\n",
              "    .colab-df-container {\n",
              "      display:flex;\n",
              "      gap: 12px;\n",
              "    }\n",
              "\n",
              "    .colab-df-convert {\n",
              "      background-color: #E8F0FE;\n",
              "      border: none;\n",
              "      border-radius: 50%;\n",
              "      cursor: pointer;\n",
              "      display: none;\n",
              "      fill: #1967D2;\n",
              "      height: 32px;\n",
              "      padding: 0 0 0 0;\n",
              "      width: 32px;\n",
              "    }\n",
              "\n",
              "    .colab-df-convert:hover {\n",
              "      background-color: #E2EBFA;\n",
              "      box-shadow: 0px 1px 2px rgba(60, 64, 67, 0.3), 0px 1px 3px 1px rgba(60, 64, 67, 0.15);\n",
              "      fill: #174EA6;\n",
              "    }\n",
              "\n",
              "    .colab-df-buttons div {\n",
              "      margin-bottom: 4px;\n",
              "    }\n",
              "\n",
              "    [theme=dark] .colab-df-convert {\n",
              "      background-color: #3B4455;\n",
              "      fill: #D2E3FC;\n",
              "    }\n",
              "\n",
              "    [theme=dark] .colab-df-convert:hover {\n",
              "      background-color: #434B5C;\n",
              "      box-shadow: 0px 1px 3px 1px rgba(0, 0, 0, 0.15);\n",
              "      filter: drop-shadow(0px 1px 2px rgba(0, 0, 0, 0.3));\n",
              "      fill: #FFFFFF;\n",
              "    }\n",
              "  </style>\n",
              "\n",
              "    <script>\n",
              "      const buttonEl =\n",
              "        document.querySelector('#df-e1e1460e-6c74-4e98-9368-f9b78ce06d77 button.colab-df-convert');\n",
              "      buttonEl.style.display =\n",
              "        google.colab.kernel.accessAllowed ? 'block' : 'none';\n",
              "\n",
              "      async function convertToInteractive(key) {\n",
              "        const element = document.querySelector('#df-e1e1460e-6c74-4e98-9368-f9b78ce06d77');\n",
              "        const dataTable =\n",
              "          await google.colab.kernel.invokeFunction('convertToInteractive',\n",
              "                                                    [key], {});\n",
              "        if (!dataTable) return;\n",
              "\n",
              "        const docLinkHtml = 'Like what you see? Visit the ' +\n",
              "          '<a target=\"_blank\" href=https://colab.research.google.com/notebooks/data_table.ipynb>data table notebook</a>'\n",
              "          + ' to learn more about interactive tables.';\n",
              "        element.innerHTML = '';\n",
              "        dataTable['output_type'] = 'display_data';\n",
              "        await google.colab.output.renderOutput(dataTable, element);\n",
              "        const docLink = document.createElement('div');\n",
              "        docLink.innerHTML = docLinkHtml;\n",
              "        element.appendChild(docLink);\n",
              "      }\n",
              "    </script>\n",
              "  </div>\n",
              "\n",
              "\n",
              "<div id=\"df-a489c707-a909-4b57-bea2-e47847452977\">\n",
              "  <button class=\"colab-df-quickchart\" onclick=\"quickchart('df-a489c707-a909-4b57-bea2-e47847452977')\"\n",
              "            title=\"Suggest charts\"\n",
              "            style=\"display:none;\">\n",
              "\n",
              "<svg xmlns=\"http://www.w3.org/2000/svg\" height=\"24px\"viewBox=\"0 0 24 24\"\n",
              "     width=\"24px\">\n",
              "    <g>\n",
              "        <path d=\"M19 3H5c-1.1 0-2 .9-2 2v14c0 1.1.9 2 2 2h14c1.1 0 2-.9 2-2V5c0-1.1-.9-2-2-2zM9 17H7v-7h2v7zm4 0h-2V7h2v10zm4 0h-2v-4h2v4z\"/>\n",
              "    </g>\n",
              "</svg>\n",
              "  </button>\n",
              "\n",
              "<style>\n",
              "  .colab-df-quickchart {\n",
              "      --bg-color: #E8F0FE;\n",
              "      --fill-color: #1967D2;\n",
              "      --hover-bg-color: #E2EBFA;\n",
              "      --hover-fill-color: #174EA6;\n",
              "      --disabled-fill-color: #AAA;\n",
              "      --disabled-bg-color: #DDD;\n",
              "  }\n",
              "\n",
              "  [theme=dark] .colab-df-quickchart {\n",
              "      --bg-color: #3B4455;\n",
              "      --fill-color: #D2E3FC;\n",
              "      --hover-bg-color: #434B5C;\n",
              "      --hover-fill-color: #FFFFFF;\n",
              "      --disabled-bg-color: #3B4455;\n",
              "      --disabled-fill-color: #666;\n",
              "  }\n",
              "\n",
              "  .colab-df-quickchart {\n",
              "    background-color: var(--bg-color);\n",
              "    border: none;\n",
              "    border-radius: 50%;\n",
              "    cursor: pointer;\n",
              "    display: none;\n",
              "    fill: var(--fill-color);\n",
              "    height: 32px;\n",
              "    padding: 0;\n",
              "    width: 32px;\n",
              "  }\n",
              "\n",
              "  .colab-df-quickchart:hover {\n",
              "    background-color: var(--hover-bg-color);\n",
              "    box-shadow: 0 1px 2px rgba(60, 64, 67, 0.3), 0 1px 3px 1px rgba(60, 64, 67, 0.15);\n",
              "    fill: var(--button-hover-fill-color);\n",
              "  }\n",
              "\n",
              "  .colab-df-quickchart-complete:disabled,\n",
              "  .colab-df-quickchart-complete:disabled:hover {\n",
              "    background-color: var(--disabled-bg-color);\n",
              "    fill: var(--disabled-fill-color);\n",
              "    box-shadow: none;\n",
              "  }\n",
              "\n",
              "  .colab-df-spinner {\n",
              "    border: 2px solid var(--fill-color);\n",
              "    border-color: transparent;\n",
              "    border-bottom-color: var(--fill-color);\n",
              "    animation:\n",
              "      spin 1s steps(1) infinite;\n",
              "  }\n",
              "\n",
              "  @keyframes spin {\n",
              "    0% {\n",
              "      border-color: transparent;\n",
              "      border-bottom-color: var(--fill-color);\n",
              "      border-left-color: var(--fill-color);\n",
              "    }\n",
              "    20% {\n",
              "      border-color: transparent;\n",
              "      border-left-color: var(--fill-color);\n",
              "      border-top-color: var(--fill-color);\n",
              "    }\n",
              "    30% {\n",
              "      border-color: transparent;\n",
              "      border-left-color: var(--fill-color);\n",
              "      border-top-color: var(--fill-color);\n",
              "      border-right-color: var(--fill-color);\n",
              "    }\n",
              "    40% {\n",
              "      border-color: transparent;\n",
              "      border-right-color: var(--fill-color);\n",
              "      border-top-color: var(--fill-color);\n",
              "    }\n",
              "    60% {\n",
              "      border-color: transparent;\n",
              "      border-right-color: var(--fill-color);\n",
              "    }\n",
              "    80% {\n",
              "      border-color: transparent;\n",
              "      border-right-color: var(--fill-color);\n",
              "      border-bottom-color: var(--fill-color);\n",
              "    }\n",
              "    90% {\n",
              "      border-color: transparent;\n",
              "      border-bottom-color: var(--fill-color);\n",
              "    }\n",
              "  }\n",
              "</style>\n",
              "\n",
              "  <script>\n",
              "    async function quickchart(key) {\n",
              "      const quickchartButtonEl =\n",
              "        document.querySelector('#' + key + ' button');\n",
              "      quickchartButtonEl.disabled = true;  // To prevent multiple clicks.\n",
              "      quickchartButtonEl.classList.add('colab-df-spinner');\n",
              "      try {\n",
              "        const charts = await google.colab.kernel.invokeFunction(\n",
              "            'suggestCharts', [key], {});\n",
              "      } catch (error) {\n",
              "        console.error('Error during call to suggestCharts:', error);\n",
              "      }\n",
              "      quickchartButtonEl.classList.remove('colab-df-spinner');\n",
              "      quickchartButtonEl.classList.add('colab-df-quickchart-complete');\n",
              "    }\n",
              "    (() => {\n",
              "      let quickchartButtonEl =\n",
              "        document.querySelector('#df-a489c707-a909-4b57-bea2-e47847452977 button');\n",
              "      quickchartButtonEl.style.display =\n",
              "        google.colab.kernel.accessAllowed ? 'block' : 'none';\n",
              "    })();\n",
              "  </script>\n",
              "</div>\n",
              "\n",
              "    </div>\n",
              "  </div>\n"
            ],
            "text/plain": [
              "                                   ID  \\\n",
              "0          HONEUSHRD71328EXTERNALCZCZ   \n",
              "2  HIINGLOBALHOT08MXLEXTERNALENGLOBAL   \n",
              "3          ACCOGLOBAL22022956ENGLOBAL   \n",
              "4             FIGLUSJR0225226EXTERNAL   \n",
              "5             COGRAU48055EXTERNALENAU   \n",
              "\n",
              "                                         Description  \\\n",
              "0  Join a team for leadership innovation and dive...   \n",
              "2  In addition to performance of the essential th...   \n",
              "3  Overnight Class Power Engineer As a certified ...   \n",
              "4  to ensure compliance with work group and clien...   \n",
              "5  You find us working across all business at Liq...   \n",
              "\n",
              "                                             Summary  \n",
              "0  successful on site installation and repair of ...  \n",
              "2  The individual must possess the following know...  \n",
              "3  As a certified Class Power Engineer you will p...  \n",
              "4  to ensure compliance with work group and clien...  \n",
              "5  As a Space Manager for Meat Bakery and you wil...  "
            ]
          },
          "execution_count": 28,
          "metadata": {},
          "output_type": "execute_result"
        }
      ],
      "source": [
        "data.head()"
      ]
    },
    {
      "cell_type": "code",
      "execution_count": 30,
      "metadata": {
        "id": "tPlo9AsaOPVw"
      },
      "outputs": [],
      "source": [
        "data[['Description', 'Summary']].to_csv(\"cleaned_train.csv\", index=False)"
      ]
    },
    {
      "cell_type": "code",
      "execution_count": 2,
      "metadata": {
        "colab": {
          "base_uri": "https://localhost:8080/",
          "height": 49,
          "referenced_widgets": [
            "129e35e291ac4797b0dbc91e55327805",
            "78cca85710f3426687b3fa0bfd084192",
            "499e7811d7e34c519c305e946f0e8a04",
            "930ff267ac284c6d9fcb8c3e86996b21",
            "c6d911449b154c53bc0378576d371b46",
            "382cbed4d9164e52b0e364979601ff40",
            "5a5cc372770941fa8b3ed409926e3cea",
            "c31c5e5970284e1faac3e3302a727212",
            "bebcaeb157c54628885d6ab8d92e3a18",
            "359274868ae4486ca42277df5416ca20",
            "82a9c06ab2ad451d849eb1bdaed4e93e"
          ]
        },
        "id": "4IXRXb72OPYI",
        "outputId": "8f01263f-dc0a-4988-8923-834209ecd721"
      },
      "outputs": [
        {
          "data": {
            "application/vnd.jupyter.widget-view+json": {
              "model_id": "129e35e291ac4797b0dbc91e55327805",
              "version_major": 2,
              "version_minor": 0
            },
            "text/plain": [
              "Generating train split: 0 examples [00:00, ? examples/s]"
            ]
          },
          "metadata": {},
          "output_type": "display_data"
        }
      ],
      "source": [
        "data = load_dataset(\"csv\", data_files=\"cleaned_train.csv\", split=\"train\", nrows=1000)"
      ]
    },
    {
      "cell_type": "code",
      "execution_count": 3,
      "metadata": {
        "colab": {
          "base_uri": "https://localhost:8080/"
        },
        "id": "DSf-a_8QRBxR",
        "outputId": "014396ac-3506-4dd4-fbab-6f6b3059b154"
      },
      "outputs": [
        {
          "data": {
            "text/plain": [
              "Dataset({\n",
              "    features: ['Description', 'Summary'],\n",
              "    num_rows: 1000\n",
              "})"
            ]
          },
          "execution_count": 3,
          "metadata": {},
          "output_type": "execute_result"
        }
      ],
      "source": [
        "data"
      ]
    },
    {
      "cell_type": "code",
      "execution_count": 4,
      "metadata": {
        "id": "MW9cw1p2QCH3"
      },
      "outputs": [],
      "source": [
        "dataset = data.train_test_split(test_size=0.2, shuffle=True)\n",
        "train_dataset = dataset[\"train\"]\n",
        "val_dataset = dataset[\"test\"]"
      ]
    },
    {
      "cell_type": "code",
      "execution_count": 21,
      "metadata": {
        "id": "43_t2oN9IwpJ"
      },
      "outputs": [],
      "source": [
        "# dataset = train_test_split(data, test_size=0.2, shuffle=True)\n",
        "# train_dataset = dataset[0].reset_index(drop=True)\n",
        "# val_dataset = dataset[1].reset_index(drop=True)\n"
      ]
    },
    {
      "cell_type": "code",
      "execution_count": 5,
      "metadata": {
        "colab": {
          "base_uri": "https://localhost:8080/"
        },
        "id": "IZhYyV6AOr_k",
        "outputId": "7f5c52b2-2dbc-4087-a124-61e02f183292"
      },
      "outputs": [
        {
          "data": {
            "text/plain": [
              "((800, 2), (200, 2))"
            ]
          },
          "execution_count": 5,
          "metadata": {},
          "output_type": "execute_result"
        }
      ],
      "source": [
        "train_dataset.shape, val_dataset.shape"
      ]
    },
    {
      "cell_type": "markdown",
      "metadata": {
        "id": "AkMVP_aRIwpJ"
      },
      "source": [
        "## Training using huggingface"
      ]
    },
    {
      "cell_type": "code",
      "execution_count": 6,
      "metadata": {
        "id": "KNJIehuHIwpJ"
      },
      "outputs": [],
      "source": [
        "MODEL = 't5-small'\n",
        "BATCH_SIZE = 16\n",
        "NUM_PROCS = 4\n",
        "EPOCHS = 10\n",
        "OUT_DIR = 'results_t5base'\n",
        "MAX_LENGTH = 512"
      ]
    },
    {
      "cell_type": "code",
      "execution_count": 7,
      "metadata": {
        "id": "LZCMsJtvIwpJ"
      },
      "outputs": [],
      "source": [
        "from transformers import T5Tokenizer, T5ForConditionalGeneration, TrainingArguments , Trainer\n",
        "# T5TokenizerFast,"
      ]
    },
    {
      "cell_type": "code",
      "execution_count": 9,
      "metadata": {
        "colab": {
          "base_uri": "https://localhost:8080/"
        },
        "id": "eNZWs-A3IwpJ",
        "outputId": "6c4e4a0e-7429-4ee9-f68c-b56fbad4b831"
      },
      "outputs": [
        {
          "name": "stderr",
          "output_type": "stream",
          "text": [
            "/usr/local/lib/python3.10/dist-packages/huggingface_hub/file_download.py:1132: FutureWarning: `resume_download` is deprecated and will be removed in version 1.0.0. Downloads always resume when possible. If you want to force a new download, use `force_download=True`.\n",
            "  warnings.warn(\n",
            "/usr/local/lib/python3.10/dist-packages/huggingface_hub/utils/_token.py:89: UserWarning: \n",
            "The secret `HF_TOKEN` does not exist in your Colab secrets.\n",
            "To authenticate with the Hugging Face Hub, create a token in your settings tab (https://huggingface.co/settings/tokens), set it as secret in your Google Colab and restart your session.\n",
            "You will be able to reuse this secret in all of your notebooks.\n",
            "Please note that authentication is recommended but still optional to access public models or datasets.\n",
            "  warnings.warn(\n",
            "You are using the default legacy behaviour of the <class 'transformers.models.t5.tokenization_t5.T5Tokenizer'>. This is expected, and simply means that the `legacy` (previous) behavior will be used so nothing changes for you. If you want to use the new behaviour, set `legacy=False`. This should only be set if you understand what it means, and thoroughly read the reason why this was added as explained in https://github.com/huggingface/transformers/pull/24565\n",
            "Special tokens have been added in the vocabulary, make sure the associated word embeddings are fine-tuned or trained.\n"
          ]
        }
      ],
      "source": [
        "tokenizer = T5Tokenizer.from_pretrained(MODEL)\n",
        "model = T5ForConditionalGeneration.from_pretrained(MODEL)"
      ]
    },
    {
      "cell_type": "code",
      "execution_count": 10,
      "metadata": {
        "id": "-xPKXzqLIwpJ"
      },
      "outputs": [],
      "source": [
        "# Ensure padding token is set\n",
        "tokenizer.pad_token = tokenizer.eos_token\n",
        "if tokenizer.pad_token_id is None:\n",
        "    raise ValueError(\"Padding token is not set.\")"
      ]
    },
    {
      "cell_type": "code",
      "execution_count": 11,
      "metadata": {
        "id": "XQihbZRdIwpJ"
      },
      "outputs": [],
      "source": [
        "def preprocess_function(examples):\n",
        "    inputs = [f\"summarize: {article}\" for article in examples['Description']]\n",
        "    model_inputs = tokenizer(\n",
        "        inputs,\n",
        "        max_length=MAX_LENGTH,\n",
        "        truncation=True,\n",
        "        padding='max_length'\n",
        "    )\n",
        "\n",
        "    # Set up the tokenizer for targets\n",
        "    targets = [summary for summary in examples['Summary']]\n",
        "    labels = tokenizer(\n",
        "        text_target = targets,\n",
        "        max_length=MAX_LENGTH,\n",
        "        truncation=True,\n",
        "        padding='max_length'\n",
        "    )\n",
        "\n",
        "    model_inputs[\"labels\"] = labels[\"input_ids\"]\n",
        "    return model_inputs"
      ]
    },
    {
      "cell_type": "code",
      "execution_count": 12,
      "metadata": {
        "colab": {
          "base_uri": "https://localhost:8080/",
          "height": 137,
          "referenced_widgets": [
            "6d9695de3a044c9fb4f5442d45231cb4",
            "e5a38e8e48924e68846b9e6eb089dfb8",
            "f99407671b4743148365472a91b29c2e",
            "9aae9e022ba64018afc645125516e86f",
            "ead1ea9f2f9048df85d5b9cdda61805a",
            "a01a51578f3147d3825ad86155f7166c",
            "97e9e6345f6d42ce895537b1f0d26b18",
            "03c5b56ce7ab4ed584e4caa9c6b642c6",
            "76931a269e504bd6aeff886d71b03c1d",
            "b190dc3b2d084a30a101e8ae264eadb0",
            "76ebe01ffaa84ab9ab6158c45064414f",
            "82d303f08f394de5afffed336760e132",
            "31e02f8cb1ec4454a6fd308f23246b38",
            "78b2d2c2a21d41ecaf0ffd600a0e4220",
            "3135f6c226584864841d7c4bf5c23617",
            "a2dc84fb846d4912a058782fb255f9fb",
            "0cde59e4b8fb49a8aff381a47ae65ce1",
            "54ca93bce5ad4cefa0f0dcfe4bdf8987",
            "d58bd85899214d65ba62f3a8742efe32",
            "7bfb62a13918476cb8220fabb939fc17",
            "fbca04b1c19147f1a390aafa6101c11c",
            "b36a676858134fe2ac9ff87354ace113"
          ]
        },
        "id": "ZoWhTJSHPFl9",
        "outputId": "809f8060-a19a-43e7-8493-0a5fc5675641"
      },
      "outputs": [
        {
          "name": "stderr",
          "output_type": "stream",
          "text": [
            "/usr/local/lib/python3.10/dist-packages/multiprocess/popen_fork.py:66: RuntimeWarning: os.fork() was called. os.fork() is incompatible with multithreaded code, and JAX is multithreaded, so this will likely lead to a deadlock.\n",
            "  self.pid = os.fork()\n"
          ]
        },
        {
          "data": {
            "application/vnd.jupyter.widget-view+json": {
              "model_id": "6d9695de3a044c9fb4f5442d45231cb4",
              "version_major": 2,
              "version_minor": 0
            },
            "text/plain": [
              "Map (num_proc=4):   0%|          | 0/800 [00:00<?, ? examples/s]"
            ]
          },
          "metadata": {},
          "output_type": "display_data"
        },
        {
          "data": {
            "application/vnd.jupyter.widget-view+json": {
              "model_id": "82d303f08f394de5afffed336760e132",
              "version_major": 2,
              "version_minor": 0
            },
            "text/plain": [
              "Map (num_proc=4):   0%|          | 0/200 [00:00<?, ? examples/s]"
            ]
          },
          "metadata": {},
          "output_type": "display_data"
        }
      ],
      "source": [
        "# Apply the function to the whole dataset\n",
        "\"\"\" method allows for parallel processing. Apply custom function\n",
        "    concurrently on multiple elements of the dataset, making it more efficient.\n",
        "\"\"\"\n",
        "tokenized_train = train_dataset.map(\n",
        "    preprocess_function,\n",
        "    batched=True,\n",
        "    num_proc=NUM_PROCS,\n",
        "    \n",
        ")\n",
        "\n",
        "tokenized_valid = val_dataset.map(\n",
        "    preprocess_function,\n",
        "    batched=True,\n",
        "    num_proc=NUM_PROCS\n",
        ")"
      ]
    },
    {
      "cell_type": "code",
      "execution_count": 13,
      "metadata": {
        "colab": {
          "base_uri": "https://localhost:8080/"
        },
        "id": "Jr8raiIZIwpJ",
        "outputId": "3472aca1-a680-4b7e-9b9e-e4e8eac1dcdc"
      },
      "outputs": [
        {
          "data": {
            "text/plain": [
              "((800, 5), (200, 5))"
            ]
          },
          "execution_count": 13,
          "metadata": {},
          "output_type": "execute_result"
        }
      ],
      "source": [
        "tokenized_train.shape, tokenized_valid.shape"
      ]
    },
    {
      "cell_type": "code",
      "execution_count": 14,
      "metadata": {
        "colab": {
          "base_uri": "https://localhost:8080/"
        },
        "id": "z5aT2bzBIwpJ",
        "outputId": "a9ec3a17-e8a8-41d0-82eb-b2f28ecdec1b"
      },
      "outputs": [
        {
          "data": {
            "text/plain": [
              "Dataset({\n",
              "    features: ['Description', 'Summary', 'input_ids', 'attention_mask', 'labels'],\n",
              "    num_rows: 800\n",
              "})"
            ]
          },
          "execution_count": 14,
          "metadata": {},
          "output_type": "execute_result"
        }
      ],
      "source": [
        "tokenized_train"
      ]
    },
    {
      "cell_type": "code",
      "execution_count": 16,
      "metadata": {
        "id": "BxgfUp19IwpJ"
      },
      "outputs": [],
      "source": [
        "training_args = TrainingArguments(\n",
        "    output_dir=OUT_DIR,\n",
        "\n",
        "    num_train_epochs=EPOCHS,\n",
        "    max_steps = -1, # if set will overwrite epochs\n",
        "    dataloader_num_workers=2,\n",
        "\n",
        "    ###### Memory optimization\n",
        "    per_device_train_batch_size=BATCH_SIZE,\n",
        "    per_device_eval_batch_size=BATCH_SIZE,\n",
        "    gradient_accumulation_steps=1,\n",
        "    gradient_checkpointing = False,\n",
        "    bf16=False, # Needs Ampere\n",
        "    fp16=False,\n",
        "    # deepspeed=False,\n",
        "    # fsdp=False,\n",
        "    dataloader_pin_memory = True,\n",
        "\n",
        "    ###### Better training\n",
        "    lr_scheduler_type=\"linear\", # check SchedulerType\n",
        "    warmup_steps = 200,\n",
        "    weight_decay=0.01,\n",
        "    learning_rate=0.001,\n",
        "    eval_steps=200,\n",
        "    evaluation_strategy='epoch',\n",
        "\n",
        "    # logging_dir=OUT_DIR,\n",
        "    save_strategy='epoch',\n",
        "    logging_steps=200,\n",
        "    save_total_limit=1,\n",
        "    # report_to='tensorboard',\n",
        "    save_safetensors=True, # To save state_dicts instead of whole,\n",
        "    # save_only_model= False,\n",
        "\n",
        "    load_best_model_at_end = True,\n",
        "    metric_for_best_model= \"loss\",\n",
        "    greater_is_better=False,\n",
        "    resume_from_checkpoint = False,\n",
        "    use_cpu = False\n",
        ")"
      ]
    },
    {
      "cell_type": "code",
      "execution_count": 17,
      "metadata": {
        "id": "FHuHuIviIwpJ"
      },
      "outputs": [],
      "source": [
        "trainer = Trainer(\n",
        "    model=model,\n",
        "    args=training_args,\n",
        "    train_dataset=tokenized_train,\n",
        "    eval_dataset=tokenized_valid,\n",
        "    # data_collator=lambda data: custom_collate_fn(data, tokenizer=tokenizer)\n",
        "    # tokenizer=,\n",
        "    # optimizers = (torch.optim.Optimizer, torch.optim.lr_scheduler.LambdaLR),\n",
        "    # callbacks=,\n",
        "    # preprocess_logits_for_metrics=preprocess_logits_for_metrics,\n",
        "    # compute_metrics=compute_metrics\n",
        ")"
      ]
    },
    {
      "cell_type": "code",
      "execution_count": 18,
      "metadata": {
        "colab": {
          "base_uri": "https://localhost:8080/",
          "height": 1000
        },
        "id": "tkt8jseMIwpJ",
        "outputId": "983abe33-deaf-43ab-a0b7-35f0a09045e5"
      },
      "outputs": [
        {
          "name": "stderr",
          "output_type": "stream",
          "text": [
            "/usr/local/lib/python3.10/dist-packages/torch/utils/data/dataloader.py:558: UserWarning: This DataLoader will create 4 worker processes in total. Our suggested max number of worker in current system is 2, which is smaller than what this DataLoader is going to create. Please be aware that excessive worker creation might get DataLoader running slow or even freeze, lower the worker number to avoid potential slowness/freeze if necessary.\n",
            "  warnings.warn(_create_warning_msg(\n",
            "/usr/lib/python3.10/multiprocessing/popen_fork.py:66: RuntimeWarning: os.fork() was called. os.fork() is incompatible with multithreaded code, and JAX is multithreaded, so this will likely lead to a deadlock.\n",
            "  self.pid = os.fork()\n"
          ]
        },
        {
          "data": {
            "text/html": [
              "\n",
              "    <div>\n",
              "      \n",
              "      <progress value='500' max='500' style='width:300px; height:20px; vertical-align: middle;'></progress>\n",
              "      [500/500 12:18, Epoch 10/10]\n",
              "    </div>\n",
              "    <table border=\"1\" class=\"dataframe\">\n",
              "  <thead>\n",
              " <tr style=\"text-align: left;\">\n",
              "      <th>Epoch</th>\n",
              "      <th>Training Loss</th>\n",
              "      <th>Validation Loss</th>\n",
              "    </tr>\n",
              "  </thead>\n",
              "  <tbody>\n",
              "    <tr>\n",
              "      <td>1</td>\n",
              "      <td>No log</td>\n",
              "      <td>0.070008</td>\n",
              "    </tr>\n",
              "    <tr>\n",
              "      <td>2</td>\n",
              "      <td>No log</td>\n",
              "      <td>0.062498</td>\n",
              "    </tr>\n",
              "    <tr>\n",
              "      <td>3</td>\n",
              "      <td>No log</td>\n",
              "      <td>0.060557</td>\n",
              "    </tr>\n",
              "    <tr>\n",
              "      <td>4</td>\n",
              "      <td>0.097700</td>\n",
              "      <td>0.059633</td>\n",
              "    </tr>\n",
              "    <tr>\n",
              "      <td>5</td>\n",
              "      <td>0.097700</td>\n",
              "      <td>0.057870</td>\n",
              "    </tr>\n",
              "    <tr>\n",
              "      <td>6</td>\n",
              "      <td>0.097700</td>\n",
              "      <td>0.057828</td>\n",
              "    </tr>\n",
              "    <tr>\n",
              "      <td>7</td>\n",
              "      <td>0.097700</td>\n",
              "      <td>0.061982</td>\n",
              "    </tr>\n",
              "    <tr>\n",
              "      <td>8</td>\n",
              "      <td>0.031900</td>\n",
              "      <td>0.062516</td>\n",
              "    </tr>\n",
              "    <tr>\n",
              "      <td>9</td>\n",
              "      <td>0.031900</td>\n",
              "      <td>0.063743</td>\n",
              "    </tr>\n",
              "    <tr>\n",
              "      <td>10</td>\n",
              "      <td>0.031900</td>\n",
              "      <td>0.064537</td>\n",
              "    </tr>\n",
              "  </tbody>\n",
              "</table><p>"
            ],
            "text/plain": [
              "<IPython.core.display.HTML object>"
            ]
          },
          "metadata": {},
          "output_type": "display_data"
        },
        {
          "name": "stderr",
          "output_type": "stream",
          "text": [
            "/usr/lib/python3.10/multiprocessing/popen_fork.py:66: RuntimeWarning: os.fork() was called. os.fork() is incompatible with multithreaded code, and JAX is multithreaded, so this will likely lead to a deadlock.\n",
            "  self.pid = os.fork()\n",
            "/usr/local/lib/python3.10/dist-packages/torch/utils/data/dataloader.py:558: UserWarning: This DataLoader will create 4 worker processes in total. Our suggested max number of worker in current system is 2, which is smaller than what this DataLoader is going to create. Please be aware that excessive worker creation might get DataLoader running slow or even freeze, lower the worker number to avoid potential slowness/freeze if necessary.\n",
            "  warnings.warn(_create_warning_msg(\n",
            "/usr/lib/python3.10/multiprocessing/popen_fork.py:66: RuntimeWarning: os.fork() was called. os.fork() is incompatible with multithreaded code, and JAX is multithreaded, so this will likely lead to a deadlock.\n",
            "  self.pid = os.fork()\n",
            "/usr/local/lib/python3.10/dist-packages/torch/utils/data/dataloader.py:558: UserWarning: This DataLoader will create 4 worker processes in total. Our suggested max number of worker in current system is 2, which is smaller than what this DataLoader is going to create. Please be aware that excessive worker creation might get DataLoader running slow or even freeze, lower the worker number to avoid potential slowness/freeze if necessary.\n",
            "  warnings.warn(_create_warning_msg(\n",
            "/usr/lib/python3.10/multiprocessing/popen_fork.py:66: RuntimeWarning: os.fork() was called. os.fork() is incompatible with multithreaded code, and JAX is multithreaded, so this will likely lead to a deadlock.\n",
            "  self.pid = os.fork()\n",
            "/usr/lib/python3.10/multiprocessing/popen_fork.py:66: RuntimeWarning: os.fork() was called. os.fork() is incompatible with multithreaded code, and JAX is multithreaded, so this will likely lead to a deadlock.\n",
            "  self.pid = os.fork()\n",
            "/usr/local/lib/python3.10/dist-packages/torch/utils/data/dataloader.py:558: UserWarning: This DataLoader will create 4 worker processes in total. Our suggested max number of worker in current system is 2, which is smaller than what this DataLoader is going to create. Please be aware that excessive worker creation might get DataLoader running slow or even freeze, lower the worker number to avoid potential slowness/freeze if necessary.\n",
            "  warnings.warn(_create_warning_msg(\n",
            "/usr/lib/python3.10/multiprocessing/popen_fork.py:66: RuntimeWarning: os.fork() was called. os.fork() is incompatible with multithreaded code, and JAX is multithreaded, so this will likely lead to a deadlock.\n",
            "  self.pid = os.fork()\n",
            "/usr/local/lib/python3.10/dist-packages/torch/utils/data/dataloader.py:558: UserWarning: This DataLoader will create 4 worker processes in total. Our suggested max number of worker in current system is 2, which is smaller than what this DataLoader is going to create. Please be aware that excessive worker creation might get DataLoader running slow or even freeze, lower the worker number to avoid potential slowness/freeze if necessary.\n",
            "  warnings.warn(_create_warning_msg(\n",
            "/usr/lib/python3.10/multiprocessing/popen_fork.py:66: RuntimeWarning: os.fork() was called. os.fork() is incompatible with multithreaded code, and JAX is multithreaded, so this will likely lead to a deadlock.\n",
            "  self.pid = os.fork()\n",
            "/usr/lib/python3.10/multiprocessing/popen_fork.py:66: RuntimeWarning: os.fork() was called. os.fork() is incompatible with multithreaded code, and JAX is multithreaded, so this will likely lead to a deadlock.\n",
            "  self.pid = os.fork()\n",
            "/usr/local/lib/python3.10/dist-packages/torch/utils/data/dataloader.py:558: UserWarning: This DataLoader will create 4 worker processes in total. Our suggested max number of worker in current system is 2, which is smaller than what this DataLoader is going to create. Please be aware that excessive worker creation might get DataLoader running slow or even freeze, lower the worker number to avoid potential slowness/freeze if necessary.\n",
            "  warnings.warn(_create_warning_msg(\n",
            "/usr/lib/python3.10/multiprocessing/popen_fork.py:66: RuntimeWarning: os.fork() was called. os.fork() is incompatible with multithreaded code, and JAX is multithreaded, so this will likely lead to a deadlock.\n",
            "  self.pid = os.fork()\n",
            "/usr/local/lib/python3.10/dist-packages/torch/utils/data/dataloader.py:558: UserWarning: This DataLoader will create 4 worker processes in total. Our suggested max number of worker in current system is 2, which is smaller than what this DataLoader is going to create. Please be aware that excessive worker creation might get DataLoader running slow or even freeze, lower the worker number to avoid potential slowness/freeze if necessary.\n",
            "  warnings.warn(_create_warning_msg(\n",
            "/usr/lib/python3.10/multiprocessing/popen_fork.py:66: RuntimeWarning: os.fork() was called. os.fork() is incompatible with multithreaded code, and JAX is multithreaded, so this will likely lead to a deadlock.\n",
            "  self.pid = os.fork()\n",
            "/usr/local/lib/python3.10/dist-packages/torch/utils/data/dataloader.py:558: UserWarning: This DataLoader will create 4 worker processes in total. Our suggested max number of worker in current system is 2, which is smaller than what this DataLoader is going to create. Please be aware that excessive worker creation might get DataLoader running slow or even freeze, lower the worker number to avoid potential slowness/freeze if necessary.\n",
            "  warnings.warn(_create_warning_msg(\n",
            "/usr/lib/python3.10/multiprocessing/popen_fork.py:66: RuntimeWarning: os.fork() was called. os.fork() is incompatible with multithreaded code, and JAX is multithreaded, so this will likely lead to a deadlock.\n",
            "  self.pid = os.fork()\n",
            "/usr/lib/python3.10/multiprocessing/popen_fork.py:66: RuntimeWarning: os.fork() was called. os.fork() is incompatible with multithreaded code, and JAX is multithreaded, so this will likely lead to a deadlock.\n",
            "  self.pid = os.fork()\n",
            "/usr/local/lib/python3.10/dist-packages/torch/utils/data/dataloader.py:558: UserWarning: This DataLoader will create 4 worker processes in total. Our suggested max number of worker in current system is 2, which is smaller than what this DataLoader is going to create. Please be aware that excessive worker creation might get DataLoader running slow or even freeze, lower the worker number to avoid potential slowness/freeze if necessary.\n",
            "  warnings.warn(_create_warning_msg(\n",
            "/usr/lib/python3.10/multiprocessing/popen_fork.py:66: RuntimeWarning: os.fork() was called. os.fork() is incompatible with multithreaded code, and JAX is multithreaded, so this will likely lead to a deadlock.\n",
            "  self.pid = os.fork()\n",
            "/usr/local/lib/python3.10/dist-packages/torch/utils/data/dataloader.py:558: UserWarning: This DataLoader will create 4 worker processes in total. Our suggested max number of worker in current system is 2, which is smaller than what this DataLoader is going to create. Please be aware that excessive worker creation might get DataLoader running slow or even freeze, lower the worker number to avoid potential slowness/freeze if necessary.\n",
            "  warnings.warn(_create_warning_msg(\n",
            "/usr/lib/python3.10/multiprocessing/popen_fork.py:66: RuntimeWarning: os.fork() was called. os.fork() is incompatible with multithreaded code, and JAX is multithreaded, so this will likely lead to a deadlock.\n",
            "  self.pid = os.fork()\n",
            "There were missing keys in the checkpoint model loaded: ['encoder.embed_tokens.weight', 'decoder.embed_tokens.weight', 'lm_head.weight'].\n"
          ]
        }
      ],
      "source": [
        "history = trainer.train()"
      ]
    },
    {
      "cell_type": "code",
      "execution_count": 28,
      "metadata": {
        "id": "rs6Ki7XRpJuz"
      },
      "outputs": [],
      "source": []
    },
    {
      "cell_type": "code",
      "execution_count": 19,
      "metadata": {
        "id": "UuRtwMVMg6vt"
      },
      "outputs": [],
      "source": [
        "import evaluate"
      ]
    },
    {
      "cell_type": "code",
      "execution_count": 33,
      "metadata": {
        "id": "G11sA7JjIwpK"
      },
      "outputs": [],
      "source": [
        "test_df= pd.read_csv(\"test.csv\", nrows=50)"
      ]
    },
    {
      "cell_type": "code",
      "execution_count": 34,
      "metadata": {
        "colab": {
          "base_uri": "https://localhost:8080/",
          "height": 206
        },
        "id": "Fc7kORDxp7KE",
        "outputId": "7d91c363-ae35-4423-eded-9285f10bdc68"
      },
      "outputs": [
        {
          "data": {
            "application/vnd.google.colaboratory.intrinsic+json": {
              "summary": "{\n  \"name\": \"test_df\",\n  \"rows\": 50,\n  \"fields\": [\n    {\n      \"column\": \"ID\",\n      \"properties\": {\n        \"dtype\": \"string\",\n        \"num_unique_values\": 50,\n        \"samples\": [\n          \"HONEUSHRD901727EXTERNALZHCN\",\n          \"TESYUSJP-002971771fr_CA\",\n          \"GE11GLOBALR3660280EXTERNALFRFR\"\n        ],\n        \"semantic_type\": \"\",\n        \"description\": \"\"\n      }\n    },\n    {\n      \"column\": \"Description\",\n      \"properties\": {\n        \"dtype\": \"string\",\n        \"num_unique_values\": 50,\n        \"samples\": [\n          \"Join a team that designs, develops and integrates highly complex software applications within  Intelligrated. You will be an active and integral member of a team to achieve the completion of goals.<p> You will also generate innovative solutions in work situations; trying different and novel ways to deal with problems and opportunities</p>. Use your skill set to provide value added software features to our products for our customers and accelerate innovation and growth, teaming with the world's most talented engineers\\ud83d\\ude0d . You will use your expert knowledge of engineering discipline and standards, processes and tools to complete and ensure compliance of various projects\\ud83d\\ude0d . You are the point of contact for external customers and you may participate in the development of new business opportunities and product lines. Key Responsibilities Requirements and design Software architecture and coding Integration Certification. Design / Development engineering including software requirements, design, analysis and development\\ud83d\\ude12 .<p> Testing / Verification engineering including software testing, simulation, traceability and documentation</p>. Process Improvement engineering including tool development and procedure simplification. YOU MUST HAVECurrently pursuing a Bachelors degree in Software Engineering or Computer Science. Must be able to participate in a co-op prior to completing current degree program. Demonstrate the ability to develop efficient and high quality software. Knowledge of software configuration management and change management practices. Effective communicator.<h2> Can quickly analyze, incorporate and apply new information and concepts</h2>. Ability to consistently make timely decisions even in the face of complexity, balancing systematic analysis with decisiveness. Ability to convey subtle or complex messages clearly, as appropriate for the topic and audience. Ability to code in multiple languages. \",\n          \"Description:As a 3rd Party Integration Testing Engineer, you will work as part of the Quality organization in the product engineering group.<h1> You will be responsible for developing testing strategies to effectively test the client supported integrated solutions</h1>. The ideal candidate will have IP Networking experience, ability to deploy and administer Linux/Windows Operating Systems, Web Proxies, Firewalls, DLP solutions and other modern networking components.<h1> Basic programming skills such as Python, C, C++, Java, Javascript and Perl, hands-on experiences with Linux Shell command line tools and other industry tools</h1>. 2-4 years of industry experience with networking equipment operation. Strong understanding of HTTP, HTML, CSS, JavaScript and other web and browser concepts. Familiar with enterprise software quality requirements . Experience testing within virtual environments a plus. Hands-on experience developing test automation using python, JavaScript or equivalent is a plus. BS/BA or relevant experience preferred Responsibilities. Work and collaborate closely with the product engineering team to identify the use cases for supported third party product integrations.<h1> Deploy and maintain test beds for in the Clients lab and in AWS/Other clouds environments</h1>. Configure maintain and document 3rd party product - integrated with the client. Lead 3rd party integration projects and provide data driven feedback on the integration progress and coverage, create Test Plans and execute the tests. Build automated testbeds to leverage the existing automated test framework in end-to-end integrated environments\\ud83d\\ude05 \\ud83d\\ude07 . 1-2 years of industry experience with networking equipment operation. Computer Networking experience. Experience with VMware virtual environments a plus. BS/BA or relevant experience preferredSkills:Software testing, Test engineering, Troubleshooting, Integration testing, Automation, Python, LinuxTop Skills Details:Software testing, Test engineeringAdditional Skills & Qualifications:Need someone with:- Excellent communication and collaboration skills- Eager to learn- Not afraid to ask questions- Can do attitude- Able to work independently . Excellent communication skills\\ud83d\\ude01 . Strong troubleshooting skills. \",\n          \"R\\u00e9sum\\u00e9 de la description de poste. D\\u00e9veloppe et maintient des syst\\u00e8mes, des r\\u00e8gles et des processus pour assurer le respect des exigences internes et externes\\ud83d\\ude07 . Poss\\u00e8de une connaissance approfondie des meilleures pratiques et de la mani\\u00e8re dont son propre domaine s'int\\u00e8gre aux autres. Poss\\u00e8de une connaissance pratique de la concurrence et des facteurs qui les diff\\u00e9rencient sur le march\\u00e9. Support Build and improve the quality management system of the Maintenance Organization, as required by EASA Regulation (EU) No 1321/2014EASA Annex II Part 145 and all other AA maintenance approvals held by the Company\\ud83d\\ude00 .<h1> Management and development of the Company Maintenance Organization Exposition, review and submission of formal amendments to the Authority (including any non-EU member state MOE Supplements preparation and revision)</h1>. Create, control, and update all the documentation, procedures and records related to the Maintenance Organisation and more.<p> ------</p>. Bachelor\\u2019s degree from an accredited technical university or a technical college (or a high school diploma / D with years of experience in quality control systems and quality improvement methods for a manufacturing environment). Proven knowledge of EASA Regulation (EU) No 1321/2014EASA Annex II Part 145 requirements. Experience in aircraft maintenance. Experience in the aviation quality system or organizations required\\ud83d\\ude12 . Training and experience as quality system auditor. Strong interpersonal and problem-solving skills with the ability to handle multiple tasks simultaneously. Fluent oral and written communication in Czech and in English. ------. Sport events (football, volleyball, \\u2026). Information additionnelle.<h2> </h2>\"\n        ],\n        \"semantic_type\": \"\",\n        \"description\": \"\"\n      }\n    }\n  ]\n}",
              "type": "dataframe",
              "variable_name": "test_df"
            },
            "text/html": [
              "\n",
              "  <div id=\"df-66de5deb-351b-4763-86e1-6a6d61f5f69d\" class=\"colab-df-container\">\n",
              "    <div>\n",
              "<style scoped>\n",
              "    .dataframe tbody tr th:only-of-type {\n",
              "        vertical-align: middle;\n",
              "    }\n",
              "\n",
              "    .dataframe tbody tr th {\n",
              "        vertical-align: top;\n",
              "    }\n",
              "\n",
              "    .dataframe thead th {\n",
              "        text-align: right;\n",
              "    }\n",
              "</style>\n",
              "<table border=\"1\" class=\"dataframe\">\n",
              "  <thead>\n",
              "    <tr style=\"text-align: right;\">\n",
              "      <th></th>\n",
              "      <th>ID</th>\n",
              "      <th>Description</th>\n",
              "    </tr>\n",
              "  </thead>\n",
              "  <tbody>\n",
              "    <tr>\n",
              "      <th>0</th>\n",
              "      <td>KUNAGLOBALREQ91464EXTERNALHUHU</td>\n",
              "      <td>With a keen interest in the development field,...</td>\n",
              "    </tr>\n",
              "    <tr>\n",
              "      <th>1</th>\n",
              "      <td>BOMOGLOBALR220007643EXTERNALFRCA</td>\n",
              "      <td>&lt;html&gt;.Delivers exceptional service to BMO cus...</td>\n",
              "    </tr>\n",
              "    <tr>\n",
              "      <th>2</th>\n",
              "      <td>KSNEUS85616</td>\n",
              "      <td>The preferred candidate will be able to provid...</td>\n",
              "    </tr>\n",
              "    <tr>\n",
              "      <th>3</th>\n",
              "      <td>PRHEUSR1050648ENUSEXTERNAL</td>\n",
              "      <td>&lt;br&gt;The Care Management Representative functio...</td>\n",
              "    </tr>\n",
              "    <tr>\n",
              "      <th>4</th>\n",
              "      <td>KSNEUS34436</td>\n",
              "      <td>&lt;p&gt;As a Warehouse Associate you will be operat...</td>\n",
              "    </tr>\n",
              "  </tbody>\n",
              "</table>\n",
              "</div>\n",
              "    <div class=\"colab-df-buttons\">\n",
              "\n",
              "  <div class=\"colab-df-container\">\n",
              "    <button class=\"colab-df-convert\" onclick=\"convertToInteractive('df-66de5deb-351b-4763-86e1-6a6d61f5f69d')\"\n",
              "            title=\"Convert this dataframe to an interactive table.\"\n",
              "            style=\"display:none;\">\n",
              "\n",
              "  <svg xmlns=\"http://www.w3.org/2000/svg\" height=\"24px\" viewBox=\"0 -960 960 960\">\n",
              "    <path d=\"M120-120v-720h720v720H120Zm60-500h600v-160H180v160Zm220 220h160v-160H400v160Zm0 220h160v-160H400v160ZM180-400h160v-160H180v160Zm440 0h160v-160H620v160ZM180-180h160v-160H180v160Zm440 0h160v-160H620v160Z\"/>\n",
              "  </svg>\n",
              "    </button>\n",
              "\n",
              "  <style>\n",
              "    .colab-df-container {\n",
              "      display:flex;\n",
              "      gap: 12px;\n",
              "    }\n",
              "\n",
              "    .colab-df-convert {\n",
              "      background-color: #E8F0FE;\n",
              "      border: none;\n",
              "      border-radius: 50%;\n",
              "      cursor: pointer;\n",
              "      display: none;\n",
              "      fill: #1967D2;\n",
              "      height: 32px;\n",
              "      padding: 0 0 0 0;\n",
              "      width: 32px;\n",
              "    }\n",
              "\n",
              "    .colab-df-convert:hover {\n",
              "      background-color: #E2EBFA;\n",
              "      box-shadow: 0px 1px 2px rgba(60, 64, 67, 0.3), 0px 1px 3px 1px rgba(60, 64, 67, 0.15);\n",
              "      fill: #174EA6;\n",
              "    }\n",
              "\n",
              "    .colab-df-buttons div {\n",
              "      margin-bottom: 4px;\n",
              "    }\n",
              "\n",
              "    [theme=dark] .colab-df-convert {\n",
              "      background-color: #3B4455;\n",
              "      fill: #D2E3FC;\n",
              "    }\n",
              "\n",
              "    [theme=dark] .colab-df-convert:hover {\n",
              "      background-color: #434B5C;\n",
              "      box-shadow: 0px 1px 3px 1px rgba(0, 0, 0, 0.15);\n",
              "      filter: drop-shadow(0px 1px 2px rgba(0, 0, 0, 0.3));\n",
              "      fill: #FFFFFF;\n",
              "    }\n",
              "  </style>\n",
              "\n",
              "    <script>\n",
              "      const buttonEl =\n",
              "        document.querySelector('#df-66de5deb-351b-4763-86e1-6a6d61f5f69d button.colab-df-convert');\n",
              "      buttonEl.style.display =\n",
              "        google.colab.kernel.accessAllowed ? 'block' : 'none';\n",
              "\n",
              "      async function convertToInteractive(key) {\n",
              "        const element = document.querySelector('#df-66de5deb-351b-4763-86e1-6a6d61f5f69d');\n",
              "        const dataTable =\n",
              "          await google.colab.kernel.invokeFunction('convertToInteractive',\n",
              "                                                    [key], {});\n",
              "        if (!dataTable) return;\n",
              "\n",
              "        const docLinkHtml = 'Like what you see? Visit the ' +\n",
              "          '<a target=\"_blank\" href=https://colab.research.google.com/notebooks/data_table.ipynb>data table notebook</a>'\n",
              "          + ' to learn more about interactive tables.';\n",
              "        element.innerHTML = '';\n",
              "        dataTable['output_type'] = 'display_data';\n",
              "        await google.colab.output.renderOutput(dataTable, element);\n",
              "        const docLink = document.createElement('div');\n",
              "        docLink.innerHTML = docLinkHtml;\n",
              "        element.appendChild(docLink);\n",
              "      }\n",
              "    </script>\n",
              "  </div>\n",
              "\n",
              "\n",
              "<div id=\"df-3138139d-a0fd-45db-a0d4-484b2f62e86c\">\n",
              "  <button class=\"colab-df-quickchart\" onclick=\"quickchart('df-3138139d-a0fd-45db-a0d4-484b2f62e86c')\"\n",
              "            title=\"Suggest charts\"\n",
              "            style=\"display:none;\">\n",
              "\n",
              "<svg xmlns=\"http://www.w3.org/2000/svg\" height=\"24px\"viewBox=\"0 0 24 24\"\n",
              "     width=\"24px\">\n",
              "    <g>\n",
              "        <path d=\"M19 3H5c-1.1 0-2 .9-2 2v14c0 1.1.9 2 2 2h14c1.1 0 2-.9 2-2V5c0-1.1-.9-2-2-2zM9 17H7v-7h2v7zm4 0h-2V7h2v10zm4 0h-2v-4h2v4z\"/>\n",
              "    </g>\n",
              "</svg>\n",
              "  </button>\n",
              "\n",
              "<style>\n",
              "  .colab-df-quickchart {\n",
              "      --bg-color: #E8F0FE;\n",
              "      --fill-color: #1967D2;\n",
              "      --hover-bg-color: #E2EBFA;\n",
              "      --hover-fill-color: #174EA6;\n",
              "      --disabled-fill-color: #AAA;\n",
              "      --disabled-bg-color: #DDD;\n",
              "  }\n",
              "\n",
              "  [theme=dark] .colab-df-quickchart {\n",
              "      --bg-color: #3B4455;\n",
              "      --fill-color: #D2E3FC;\n",
              "      --hover-bg-color: #434B5C;\n",
              "      --hover-fill-color: #FFFFFF;\n",
              "      --disabled-bg-color: #3B4455;\n",
              "      --disabled-fill-color: #666;\n",
              "  }\n",
              "\n",
              "  .colab-df-quickchart {\n",
              "    background-color: var(--bg-color);\n",
              "    border: none;\n",
              "    border-radius: 50%;\n",
              "    cursor: pointer;\n",
              "    display: none;\n",
              "    fill: var(--fill-color);\n",
              "    height: 32px;\n",
              "    padding: 0;\n",
              "    width: 32px;\n",
              "  }\n",
              "\n",
              "  .colab-df-quickchart:hover {\n",
              "    background-color: var(--hover-bg-color);\n",
              "    box-shadow: 0 1px 2px rgba(60, 64, 67, 0.3), 0 1px 3px 1px rgba(60, 64, 67, 0.15);\n",
              "    fill: var(--button-hover-fill-color);\n",
              "  }\n",
              "\n",
              "  .colab-df-quickchart-complete:disabled,\n",
              "  .colab-df-quickchart-complete:disabled:hover {\n",
              "    background-color: var(--disabled-bg-color);\n",
              "    fill: var(--disabled-fill-color);\n",
              "    box-shadow: none;\n",
              "  }\n",
              "\n",
              "  .colab-df-spinner {\n",
              "    border: 2px solid var(--fill-color);\n",
              "    border-color: transparent;\n",
              "    border-bottom-color: var(--fill-color);\n",
              "    animation:\n",
              "      spin 1s steps(1) infinite;\n",
              "  }\n",
              "\n",
              "  @keyframes spin {\n",
              "    0% {\n",
              "      border-color: transparent;\n",
              "      border-bottom-color: var(--fill-color);\n",
              "      border-left-color: var(--fill-color);\n",
              "    }\n",
              "    20% {\n",
              "      border-color: transparent;\n",
              "      border-left-color: var(--fill-color);\n",
              "      border-top-color: var(--fill-color);\n",
              "    }\n",
              "    30% {\n",
              "      border-color: transparent;\n",
              "      border-left-color: var(--fill-color);\n",
              "      border-top-color: var(--fill-color);\n",
              "      border-right-color: var(--fill-color);\n",
              "    }\n",
              "    40% {\n",
              "      border-color: transparent;\n",
              "      border-right-color: var(--fill-color);\n",
              "      border-top-color: var(--fill-color);\n",
              "    }\n",
              "    60% {\n",
              "      border-color: transparent;\n",
              "      border-right-color: var(--fill-color);\n",
              "    }\n",
              "    80% {\n",
              "      border-color: transparent;\n",
              "      border-right-color: var(--fill-color);\n",
              "      border-bottom-color: var(--fill-color);\n",
              "    }\n",
              "    90% {\n",
              "      border-color: transparent;\n",
              "      border-bottom-color: var(--fill-color);\n",
              "    }\n",
              "  }\n",
              "</style>\n",
              "\n",
              "  <script>\n",
              "    async function quickchart(key) {\n",
              "      const quickchartButtonEl =\n",
              "        document.querySelector('#' + key + ' button');\n",
              "      quickchartButtonEl.disabled = true;  // To prevent multiple clicks.\n",
              "      quickchartButtonEl.classList.add('colab-df-spinner');\n",
              "      try {\n",
              "        const charts = await google.colab.kernel.invokeFunction(\n",
              "            'suggestCharts', [key], {});\n",
              "      } catch (error) {\n",
              "        console.error('Error during call to suggestCharts:', error);\n",
              "      }\n",
              "      quickchartButtonEl.classList.remove('colab-df-spinner');\n",
              "      quickchartButtonEl.classList.add('colab-df-quickchart-complete');\n",
              "    }\n",
              "    (() => {\n",
              "      let quickchartButtonEl =\n",
              "        document.querySelector('#df-3138139d-a0fd-45db-a0d4-484b2f62e86c button');\n",
              "      quickchartButtonEl.style.display =\n",
              "        google.colab.kernel.accessAllowed ? 'block' : 'none';\n",
              "    })();\n",
              "  </script>\n",
              "</div>\n",
              "\n",
              "    </div>\n",
              "  </div>\n"
            ],
            "text/plain": [
              "                                 ID  \\\n",
              "0    KUNAGLOBALREQ91464EXTERNALHUHU   \n",
              "1  BOMOGLOBALR220007643EXTERNALFRCA   \n",
              "2                       KSNEUS85616   \n",
              "3        PRHEUSR1050648ENUSEXTERNAL   \n",
              "4                       KSNEUS34436   \n",
              "\n",
              "                                         Description  \n",
              "0  With a keen interest in the development field,...  \n",
              "1  <html>.Delivers exceptional service to BMO cus...  \n",
              "2  The preferred candidate will be able to provid...  \n",
              "3  <br>The Care Management Representative functio...  \n",
              "4  <p>As a Warehouse Associate you will be operat...  "
            ]
          },
          "execution_count": 34,
          "metadata": {},
          "output_type": "execute_result"
        }
      ],
      "source": [
        "test_df.head()"
      ]
    },
    {
      "cell_type": "code",
      "execution_count": 44,
      "metadata": {
        "id": "Plf-_KZepUQo"
      },
      "outputs": [],
      "source": [
        "def clean_text_pipeline(df):\n",
        "  df['Description'] = df['Description'].str.replace(r'<[^<>]*>', '', regex=True)\n",
        "  df[\"Description\"] = df['Description'].apply(remove_non_english_text)\n",
        "  df[\"Description\"] = df[\"Description\"].apply(remove_punctuations)\n",
        "  df[\"Description\"] = df[\"Description\"].replace(r'^\\s*$', np.nan, regex=True)\n",
        "  return df\n",
        "\n",
        "test_df = clean_text_pipeline(test_df)"
      ]
    },
    {
      "cell_type": "code",
      "execution_count": 45,
      "metadata": {
        "colab": {
          "base_uri": "https://localhost:8080/"
        },
        "id": "9kGDE5UfIwpK",
        "outputId": "edaec9c7-5490-42a2-b299-f8623a844da4"
      },
      "outputs": [
        {
          "name": "stderr",
          "output_type": "stream",
          "text": [
            "/usr/local/lib/python3.10/dist-packages/huggingface_hub/file_download.py:1132: FutureWarning: `resume_download` is deprecated and will be removed in version 1.0.0. Downloads always resume when possible. If you want to force a new download, use `force_download=True`.\n",
            "  warnings.warn(\n",
            "Special tokens have been added in the vocabulary, make sure the associated word embeddings are fine-tuned or trained.\n"
          ]
        }
      ],
      "source": [
        "model_path = f\"{OUT_DIR}/checkpoint-300\"  # the path where you saved your model\n",
        "model = T5ForConditionalGeneration.from_pretrained(model_path)\n",
        "tokenizer = T5Tokenizer.from_pretrained(\"t5-small\")\n"
      ]
    },
    {
      "cell_type": "code",
      "execution_count": 46,
      "metadata": {
        "id": "fwOdzgZpIwpK"
      },
      "outputs": [],
      "source": [
        "def summarize_text(text):\n",
        "    # Preprocess the text\n",
        "    inputs = tokenizer.encode(\n",
        "        \"summarize: \" + text,\n",
        "        return_tensors='pt',\n",
        "        max_length=512,\n",
        "        truncation=True,\n",
        "        padding='max_length'\n",
        "    )\n",
        "\n",
        "    # Generate the summary\n",
        "    summary_ids = model.generate(\n",
        "        inputs,\n",
        "        max_length=50,\n",
        "        num_beams=5,\n",
        "        early_stopping=True\n",
        "    )\n",
        "\n",
        "    # Decode and return the summary\n",
        "    return tokenizer.decode(summary_ids[0], skip_special_tokens=True)"
      ]
    },
    {
      "cell_type": "code",
      "execution_count": 47,
      "metadata": {
        "id": "5eQn24EOnsVu"
      },
      "outputs": [],
      "source": [
        "predictions = test_df[\"Description\"].apply(summarize_text)"
      ]
    },
    {
      "cell_type": "code",
      "execution_count": 48,
      "metadata": {
        "colab": {
          "base_uri": "https://localhost:8080/"
        },
        "id": "ROSiNFH0oEjO",
        "outputId": "4295b035-7685-4ca5-b178-fec8ce6f4ff7"
      },
      "outputs": [
        {
          "data": {
            "text/plain": [
              "0     This development role will incorporate the ini...\n",
              "1     Works collaboratively within the branch and wi...\n",
              "2     The preferred candidate will be able to provid...\n",
              "3     The Care Management Representative as a core t...\n",
              "4     As a Warehouse Associate you will be operate d...\n",
              "5     As a project leader will use their strong lead...\n",
              "6     Responsible for providing primary support and ...\n",
              "7                                        en da El ya da\n",
              "8     As a Data Scientist at you actively shape the ...\n",
              "9     ESSENTIAL OF THE ROLE and equipment safely and...\n",
              "10    The estimate the time frame to be one month As...\n",
              "11    The Tech will be responsible for Quality Assur...\n",
              "12    As a Cook you would be responsible for and qua...\n",
              "13    Join a team that and highly complex within You...\n",
              "14    The Buyer customer support by working as a tea...\n",
              "15    On site in Top of Excel report creation or sch...\n",
              "16    This is an entry level position that will be u...\n",
              "17    You will work closely with specialist Product ...\n",
              "18    Deliver responsible platform sell out target a...\n",
              "19    Responsible and accountable for the Solution A...\n",
              "20    The person will also share in the responsibili...\n",
              "21    subject matter and oversight of criminal risk ...\n",
              "22    with quality substitute teacher and management...\n",
              "23    Key and and analytics and and the design of da...\n",
              "24    Minimum of directly related experience in Qual...\n",
              "25    en s sur l analyse pour l pour la de l aide en...\n",
              "26    Minimum Education with minimum test experience...\n",
              "27    Experience with working on a mixed discipline ...\n",
              "28    Description A clinically competent under the s...\n",
              "29    The Scientist will conduct sample analysis in ...\n",
              "30    de la description de pour assurer respect de l...\n",
              "31    Responsible for multiple and business to deliv...\n",
              "32    The Threat Analyst shall be responsible for su...\n",
              "33    The position is also responsible for an enviro...\n",
              "34    Dank ist wird GROSS das Yield Management Opera...\n",
              "35    Basic Life Support Additional Description and ...\n",
              "36    The Floor Technician is responsible for the ma...\n",
              "37    As the Education Counselor you will Organize p...\n",
              "38    Experience supporting and working directly wit...\n",
              "39    As a Party Integration Testing Engineer you wi...\n",
              "40           sind nach den Hotel Sie es die Lippen nach\n",
              "41    As an Actuarial Developer you will be responsi...\n",
              "42    As a Conference and Banquet Manager you are re...\n",
              "43    specialized bereavement therapy for and specia...\n",
              "44    In House Injection Mold Repair preventative ma...\n",
              "45    Lead and the technical design relative to curr...\n",
              "46    Experience with enterprise deployment experien...\n",
              "47      Un es de en las de y para y de excelente y a la\n",
              "48    Drive to current that will reduce cost improve...\n",
              "49    As a Project Manager you will collaboratively ...\n",
              "Name: Description, dtype: object"
            ]
          },
          "execution_count": 48,
          "metadata": {},
          "output_type": "execute_result"
        }
      ],
      "source": [
        "predictions"
      ]
    },
    {
      "cell_type": "code",
      "execution_count": 54,
      "metadata": {
        "id": "7b4ikLZRIwpK"
      },
      "outputs": [],
      "source": [
        "rouge = evaluate.load(\"rouge\")\n",
        "\n",
        "def compute_metrics(eval_pred):\n",
        "    # predictions, labels = eval_pred.predictions[0], eval_pred.label_ids\n",
        "\n",
        "    # decoded_preds = tokenizer.batch_decode(predictions, skip_special_tokens=True)\n",
        "    # labels = np.where(labels != -100, labels, tokenizer.pad_token_id)\n",
        "    # decoded_labels = tokenizer.batch_decode(labels, skip_special_tokens=True)\n",
        "\n",
        "    result = rouge.compute(\n",
        "        predictions=eval_pred,\n",
        "        references=eval_pred,\n",
        "        use_stemmer=True,\n",
        "        rouge_types=[\n",
        "            'rougeL'\n",
        "        ]\n",
        "    )\n",
        "\n",
        "    return result\n",
        "\n",
        "    # prediction_lens = [np.count_nonzero(pred != tokenizer.pad_token_id) for pred in predictions]\n",
        "    # result[\"gen_len\"] = np.mean(prediction_lens)\n",
        "\n",
        "    # return {k: round(v, 4) for k, v in result.items()}"
      ]
    },
    {
      "cell_type": "code",
      "execution_count": 53,
      "metadata": {
        "colab": {
          "base_uri": "https://localhost:8080/"
        },
        "id": "4DQ6-akiIwpK",
        "outputId": "a7cb59b4-7bfc-4d11-8bff-9e6d9418929f"
      },
      "outputs": [
        {
          "data": {
            "text/plain": [
              "{'rouge1': 1.0, 'rouge2': 1.0, 'rougeL': 1.0, 'rougeLsum': 1.0}"
            ]
          },
          "execution_count": 53,
          "metadata": {},
          "output_type": "execute_result"
        }
      ],
      "source": [
        "rouge.compute(predictions=predictions[:5], references=predictions[:5], use_stemmer=True)"
      ]
    },
    {
      "cell_type": "code",
      "execution_count": 56,
      "metadata": {
        "id": "uTjjGItFsquS"
      },
      "outputs": [],
      "source": [
        "pred = [compute_metrics(x)[\"rougeL\"] for x in predictions]"
      ]
    },
    {
      "cell_type": "code",
      "execution_count": 57,
      "metadata": {
        "colab": {
          "base_uri": "https://localhost:8080/"
        },
        "id": "zZmkmRmjwUTW",
        "outputId": "c09f5e16-ef01-4dee-e9f9-af5af34eeb28"
      },
      "outputs": [
        {
          "data": {
            "text/plain": [
              "[0.8823529411764706,\n",
              " 0.8633093525179856,\n",
              " 0.8663101604278075,\n",
              " 0.8418367346938775,\n",
              " 0.8135593220338984,\n",
              " 0.8403755868544601,\n",
              " 0.8613861386138614,\n",
              " 0.7142857142857143,\n",
              " 0.8278145695364238,\n",
              " 0.8506493506493507,\n",
              " 0.8571428571428571,\n",
              " 0.8505747126436781,\n",
              " 0.8355263157894737,\n",
              " 0.821656050955414,\n",
              " 0.8431372549019608,\n",
              " 0.8347107438016529,\n",
              " 0.8324607329842932,\n",
              " 0.8536585365853658,\n",
              " 0.8723404255319149,\n",
              " 0.8666666666666667,\n",
              " 0.8125,\n",
              " 0.8461538461538461,\n",
              " 0.8611111111111112,\n",
              " 0.8446601941747572,\n",
              " 0.8634361233480177,\n",
              " 0.7802197802197802,\n",
              " 0.8571428571428571,\n",
              " 0.8333333333333334,\n",
              " 0.8543689320388349,\n",
              " 0.8620689655172413,\n",
              " 0.8202247191011236,\n",
              " 0.8525345622119815,\n",
              " 0.84,\n",
              " 0.8423645320197044,\n",
              " 0.84,\n",
              " 0.8585858585858586,\n",
              " 0.8395061728395061,\n",
              " 0.8591549295774648,\n",
              " 0.8817204301075269,\n",
              " 0.8402061855670103,\n",
              " 0.8095238095238095,\n",
              " 0.8636363636363636,\n",
              " 0.8472222222222222,\n",
              " 0.8489208633093526,\n",
              " 0.8721804511278195,\n",
              " 0.8468468468468469,\n",
              " 0.8700564971751412,\n",
              " 0.723404255319149,\n",
              " 0.8421052631578947,\n",
              " 0.8390243902439024]"
            ]
          },
          "execution_count": 57,
          "metadata": {},
          "output_type": "execute_result"
        }
      ],
      "source": [
        "pred"
      ]
    },
    {
      "cell_type": "code",
      "execution_count": null,
      "metadata": {
        "id": "MRRSzIiXwmhW"
      },
      "outputs": [],
      "source": []
    }
  ],
  "metadata": {
    "accelerator": "GPU",
    "colab": {
      "gpuType": "T4",
      "provenance": []
    },
    "kernelspec": {
      "display_name": "Python 3",
      "name": "python3"
    },
    "language_info": {
      "codemirror_mode": {
        "name": "ipython",
        "version": 3
      },
      "file_extension": ".py",
      "mimetype": "text/x-python",
      "name": "python",
      "nbconvert_exporter": "python",
      "pygments_lexer": "ipython3",
      "version": "3.10.14"
    },
    "widgets": {
      "application/vnd.jupyter.widget-state+json": {
        "03c5b56ce7ab4ed584e4caa9c6b642c6": {
          "model_module": "@jupyter-widgets/base",
          "model_module_version": "1.2.0",
          "model_name": "LayoutModel",
          "state": {
            "_model_module": "@jupyter-widgets/base",
            "_model_module_version": "1.2.0",
            "_model_name": "LayoutModel",
            "_view_count": null,
            "_view_module": "@jupyter-widgets/base",
            "_view_module_version": "1.2.0",
            "_view_name": "LayoutView",
            "align_content": null,
            "align_items": null,
            "align_self": null,
            "border": null,
            "bottom": null,
            "display": null,
            "flex": null,
            "flex_flow": null,
            "grid_area": null,
            "grid_auto_columns": null,
            "grid_auto_flow": null,
            "grid_auto_rows": null,
            "grid_column": null,
            "grid_gap": null,
            "grid_row": null,
            "grid_template_areas": null,
            "grid_template_columns": null,
            "grid_template_rows": null,
            "height": null,
            "justify_content": null,
            "justify_items": null,
            "left": null,
            "margin": null,
            "max_height": null,
            "max_width": null,
            "min_height": null,
            "min_width": null,
            "object_fit": null,
            "object_position": null,
            "order": null,
            "overflow": null,
            "overflow_x": null,
            "overflow_y": null,
            "padding": null,
            "right": null,
            "top": null,
            "visibility": null,
            "width": null
          }
        },
        "0cde59e4b8fb49a8aff381a47ae65ce1": {
          "model_module": "@jupyter-widgets/base",
          "model_module_version": "1.2.0",
          "model_name": "LayoutModel",
          "state": {
            "_model_module": "@jupyter-widgets/base",
            "_model_module_version": "1.2.0",
            "_model_name": "LayoutModel",
            "_view_count": null,
            "_view_module": "@jupyter-widgets/base",
            "_view_module_version": "1.2.0",
            "_view_name": "LayoutView",
            "align_content": null,
            "align_items": null,
            "align_self": null,
            "border": null,
            "bottom": null,
            "display": null,
            "flex": null,
            "flex_flow": null,
            "grid_area": null,
            "grid_auto_columns": null,
            "grid_auto_flow": null,
            "grid_auto_rows": null,
            "grid_column": null,
            "grid_gap": null,
            "grid_row": null,
            "grid_template_areas": null,
            "grid_template_columns": null,
            "grid_template_rows": null,
            "height": null,
            "justify_content": null,
            "justify_items": null,
            "left": null,
            "margin": null,
            "max_height": null,
            "max_width": null,
            "min_height": null,
            "min_width": null,
            "object_fit": null,
            "object_position": null,
            "order": null,
            "overflow": null,
            "overflow_x": null,
            "overflow_y": null,
            "padding": null,
            "right": null,
            "top": null,
            "visibility": null,
            "width": null
          }
        },
        "129e35e291ac4797b0dbc91e55327805": {
          "model_module": "@jupyter-widgets/controls",
          "model_module_version": "1.5.0",
          "model_name": "HBoxModel",
          "state": {
            "_dom_classes": [],
            "_model_module": "@jupyter-widgets/controls",
            "_model_module_version": "1.5.0",
            "_model_name": "HBoxModel",
            "_view_count": null,
            "_view_module": "@jupyter-widgets/controls",
            "_view_module_version": "1.5.0",
            "_view_name": "HBoxView",
            "box_style": "",
            "children": [
              "IPY_MODEL_78cca85710f3426687b3fa0bfd084192",
              "IPY_MODEL_499e7811d7e34c519c305e946f0e8a04",
              "IPY_MODEL_930ff267ac284c6d9fcb8c3e86996b21"
            ],
            "layout": "IPY_MODEL_c6d911449b154c53bc0378576d371b46"
          }
        },
        "3135f6c226584864841d7c4bf5c23617": {
          "model_module": "@jupyter-widgets/controls",
          "model_module_version": "1.5.0",
          "model_name": "HTMLModel",
          "state": {
            "_dom_classes": [],
            "_model_module": "@jupyter-widgets/controls",
            "_model_module_version": "1.5.0",
            "_model_name": "HTMLModel",
            "_view_count": null,
            "_view_module": "@jupyter-widgets/controls",
            "_view_module_version": "1.5.0",
            "_view_name": "HTMLView",
            "description": "",
            "description_tooltip": null,
            "layout": "IPY_MODEL_fbca04b1c19147f1a390aafa6101c11c",
            "placeholder": "​",
            "style": "IPY_MODEL_b36a676858134fe2ac9ff87354ace113",
            "value": " 200/200 [00:00&lt;00:00, 157.39 examples/s]"
          }
        },
        "31e02f8cb1ec4454a6fd308f23246b38": {
          "model_module": "@jupyter-widgets/controls",
          "model_module_version": "1.5.0",
          "model_name": "HTMLModel",
          "state": {
            "_dom_classes": [],
            "_model_module": "@jupyter-widgets/controls",
            "_model_module_version": "1.5.0",
            "_model_name": "HTMLModel",
            "_view_count": null,
            "_view_module": "@jupyter-widgets/controls",
            "_view_module_version": "1.5.0",
            "_view_name": "HTMLView",
            "description": "",
            "description_tooltip": null,
            "layout": "IPY_MODEL_0cde59e4b8fb49a8aff381a47ae65ce1",
            "placeholder": "​",
            "style": "IPY_MODEL_54ca93bce5ad4cefa0f0dcfe4bdf8987",
            "value": "Map (num_proc=4): 100%"
          }
        },
        "359274868ae4486ca42277df5416ca20": {
          "model_module": "@jupyter-widgets/base",
          "model_module_version": "1.2.0",
          "model_name": "LayoutModel",
          "state": {
            "_model_module": "@jupyter-widgets/base",
            "_model_module_version": "1.2.0",
            "_model_name": "LayoutModel",
            "_view_count": null,
            "_view_module": "@jupyter-widgets/base",
            "_view_module_version": "1.2.0",
            "_view_name": "LayoutView",
            "align_content": null,
            "align_items": null,
            "align_self": null,
            "border": null,
            "bottom": null,
            "display": null,
            "flex": null,
            "flex_flow": null,
            "grid_area": null,
            "grid_auto_columns": null,
            "grid_auto_flow": null,
            "grid_auto_rows": null,
            "grid_column": null,
            "grid_gap": null,
            "grid_row": null,
            "grid_template_areas": null,
            "grid_template_columns": null,
            "grid_template_rows": null,
            "height": null,
            "justify_content": null,
            "justify_items": null,
            "left": null,
            "margin": null,
            "max_height": null,
            "max_width": null,
            "min_height": null,
            "min_width": null,
            "object_fit": null,
            "object_position": null,
            "order": null,
            "overflow": null,
            "overflow_x": null,
            "overflow_y": null,
            "padding": null,
            "right": null,
            "top": null,
            "visibility": null,
            "width": null
          }
        },
        "382cbed4d9164e52b0e364979601ff40": {
          "model_module": "@jupyter-widgets/base",
          "model_module_version": "1.2.0",
          "model_name": "LayoutModel",
          "state": {
            "_model_module": "@jupyter-widgets/base",
            "_model_module_version": "1.2.0",
            "_model_name": "LayoutModel",
            "_view_count": null,
            "_view_module": "@jupyter-widgets/base",
            "_view_module_version": "1.2.0",
            "_view_name": "LayoutView",
            "align_content": null,
            "align_items": null,
            "align_self": null,
            "border": null,
            "bottom": null,
            "display": null,
            "flex": null,
            "flex_flow": null,
            "grid_area": null,
            "grid_auto_columns": null,
            "grid_auto_flow": null,
            "grid_auto_rows": null,
            "grid_column": null,
            "grid_gap": null,
            "grid_row": null,
            "grid_template_areas": null,
            "grid_template_columns": null,
            "grid_template_rows": null,
            "height": null,
            "justify_content": null,
            "justify_items": null,
            "left": null,
            "margin": null,
            "max_height": null,
            "max_width": null,
            "min_height": null,
            "min_width": null,
            "object_fit": null,
            "object_position": null,
            "order": null,
            "overflow": null,
            "overflow_x": null,
            "overflow_y": null,
            "padding": null,
            "right": null,
            "top": null,
            "visibility": null,
            "width": null
          }
        },
        "499e7811d7e34c519c305e946f0e8a04": {
          "model_module": "@jupyter-widgets/controls",
          "model_module_version": "1.5.0",
          "model_name": "FloatProgressModel",
          "state": {
            "_dom_classes": [],
            "_model_module": "@jupyter-widgets/controls",
            "_model_module_version": "1.5.0",
            "_model_name": "FloatProgressModel",
            "_view_count": null,
            "_view_module": "@jupyter-widgets/controls",
            "_view_module_version": "1.5.0",
            "_view_name": "ProgressView",
            "bar_style": "success",
            "description": "",
            "description_tooltip": null,
            "layout": "IPY_MODEL_c31c5e5970284e1faac3e3302a727212",
            "max": 1,
            "min": 0,
            "orientation": "horizontal",
            "style": "IPY_MODEL_bebcaeb157c54628885d6ab8d92e3a18",
            "value": 1
          }
        },
        "54ca93bce5ad4cefa0f0dcfe4bdf8987": {
          "model_module": "@jupyter-widgets/controls",
          "model_module_version": "1.5.0",
          "model_name": "DescriptionStyleModel",
          "state": {
            "_model_module": "@jupyter-widgets/controls",
            "_model_module_version": "1.5.0",
            "_model_name": "DescriptionStyleModel",
            "_view_count": null,
            "_view_module": "@jupyter-widgets/base",
            "_view_module_version": "1.2.0",
            "_view_name": "StyleView",
            "description_width": ""
          }
        },
        "5a5cc372770941fa8b3ed409926e3cea": {
          "model_module": "@jupyter-widgets/controls",
          "model_module_version": "1.5.0",
          "model_name": "DescriptionStyleModel",
          "state": {
            "_model_module": "@jupyter-widgets/controls",
            "_model_module_version": "1.5.0",
            "_model_name": "DescriptionStyleModel",
            "_view_count": null,
            "_view_module": "@jupyter-widgets/base",
            "_view_module_version": "1.2.0",
            "_view_name": "StyleView",
            "description_width": ""
          }
        },
        "6d9695de3a044c9fb4f5442d45231cb4": {
          "model_module": "@jupyter-widgets/controls",
          "model_module_version": "1.5.0",
          "model_name": "HBoxModel",
          "state": {
            "_dom_classes": [],
            "_model_module": "@jupyter-widgets/controls",
            "_model_module_version": "1.5.0",
            "_model_name": "HBoxModel",
            "_view_count": null,
            "_view_module": "@jupyter-widgets/controls",
            "_view_module_version": "1.5.0",
            "_view_name": "HBoxView",
            "box_style": "",
            "children": [
              "IPY_MODEL_e5a38e8e48924e68846b9e6eb089dfb8",
              "IPY_MODEL_f99407671b4743148365472a91b29c2e",
              "IPY_MODEL_9aae9e022ba64018afc645125516e86f"
            ],
            "layout": "IPY_MODEL_ead1ea9f2f9048df85d5b9cdda61805a"
          }
        },
        "76931a269e504bd6aeff886d71b03c1d": {
          "model_module": "@jupyter-widgets/controls",
          "model_module_version": "1.5.0",
          "model_name": "ProgressStyleModel",
          "state": {
            "_model_module": "@jupyter-widgets/controls",
            "_model_module_version": "1.5.0",
            "_model_name": "ProgressStyleModel",
            "_view_count": null,
            "_view_module": "@jupyter-widgets/base",
            "_view_module_version": "1.2.0",
            "_view_name": "StyleView",
            "bar_color": null,
            "description_width": ""
          }
        },
        "76ebe01ffaa84ab9ab6158c45064414f": {
          "model_module": "@jupyter-widgets/controls",
          "model_module_version": "1.5.0",
          "model_name": "DescriptionStyleModel",
          "state": {
            "_model_module": "@jupyter-widgets/controls",
            "_model_module_version": "1.5.0",
            "_model_name": "DescriptionStyleModel",
            "_view_count": null,
            "_view_module": "@jupyter-widgets/base",
            "_view_module_version": "1.2.0",
            "_view_name": "StyleView",
            "description_width": ""
          }
        },
        "78b2d2c2a21d41ecaf0ffd600a0e4220": {
          "model_module": "@jupyter-widgets/controls",
          "model_module_version": "1.5.0",
          "model_name": "FloatProgressModel",
          "state": {
            "_dom_classes": [],
            "_model_module": "@jupyter-widgets/controls",
            "_model_module_version": "1.5.0",
            "_model_name": "FloatProgressModel",
            "_view_count": null,
            "_view_module": "@jupyter-widgets/controls",
            "_view_module_version": "1.5.0",
            "_view_name": "ProgressView",
            "bar_style": "success",
            "description": "",
            "description_tooltip": null,
            "layout": "IPY_MODEL_d58bd85899214d65ba62f3a8742efe32",
            "max": 200,
            "min": 0,
            "orientation": "horizontal",
            "style": "IPY_MODEL_7bfb62a13918476cb8220fabb939fc17",
            "value": 200
          }
        },
        "78cca85710f3426687b3fa0bfd084192": {
          "model_module": "@jupyter-widgets/controls",
          "model_module_version": "1.5.0",
          "model_name": "HTMLModel",
          "state": {
            "_dom_classes": [],
            "_model_module": "@jupyter-widgets/controls",
            "_model_module_version": "1.5.0",
            "_model_name": "HTMLModel",
            "_view_count": null,
            "_view_module": "@jupyter-widgets/controls",
            "_view_module_version": "1.5.0",
            "_view_name": "HTMLView",
            "description": "",
            "description_tooltip": null,
            "layout": "IPY_MODEL_382cbed4d9164e52b0e364979601ff40",
            "placeholder": "​",
            "style": "IPY_MODEL_5a5cc372770941fa8b3ed409926e3cea",
            "value": "Generating train split: "
          }
        },
        "7bfb62a13918476cb8220fabb939fc17": {
          "model_module": "@jupyter-widgets/controls",
          "model_module_version": "1.5.0",
          "model_name": "ProgressStyleModel",
          "state": {
            "_model_module": "@jupyter-widgets/controls",
            "_model_module_version": "1.5.0",
            "_model_name": "ProgressStyleModel",
            "_view_count": null,
            "_view_module": "@jupyter-widgets/base",
            "_view_module_version": "1.2.0",
            "_view_name": "StyleView",
            "bar_color": null,
            "description_width": ""
          }
        },
        "82a9c06ab2ad451d849eb1bdaed4e93e": {
          "model_module": "@jupyter-widgets/controls",
          "model_module_version": "1.5.0",
          "model_name": "DescriptionStyleModel",
          "state": {
            "_model_module": "@jupyter-widgets/controls",
            "_model_module_version": "1.5.0",
            "_model_name": "DescriptionStyleModel",
            "_view_count": null,
            "_view_module": "@jupyter-widgets/base",
            "_view_module_version": "1.2.0",
            "_view_name": "StyleView",
            "description_width": ""
          }
        },
        "82d303f08f394de5afffed336760e132": {
          "model_module": "@jupyter-widgets/controls",
          "model_module_version": "1.5.0",
          "model_name": "HBoxModel",
          "state": {
            "_dom_classes": [],
            "_model_module": "@jupyter-widgets/controls",
            "_model_module_version": "1.5.0",
            "_model_name": "HBoxModel",
            "_view_count": null,
            "_view_module": "@jupyter-widgets/controls",
            "_view_module_version": "1.5.0",
            "_view_name": "HBoxView",
            "box_style": "",
            "children": [
              "IPY_MODEL_31e02f8cb1ec4454a6fd308f23246b38",
              "IPY_MODEL_78b2d2c2a21d41ecaf0ffd600a0e4220",
              "IPY_MODEL_3135f6c226584864841d7c4bf5c23617"
            ],
            "layout": "IPY_MODEL_a2dc84fb846d4912a058782fb255f9fb"
          }
        },
        "930ff267ac284c6d9fcb8c3e86996b21": {
          "model_module": "@jupyter-widgets/controls",
          "model_module_version": "1.5.0",
          "model_name": "HTMLModel",
          "state": {
            "_dom_classes": [],
            "_model_module": "@jupyter-widgets/controls",
            "_model_module_version": "1.5.0",
            "_model_name": "HTMLModel",
            "_view_count": null,
            "_view_module": "@jupyter-widgets/controls",
            "_view_module_version": "1.5.0",
            "_view_name": "HTMLView",
            "description": "",
            "description_tooltip": null,
            "layout": "IPY_MODEL_359274868ae4486ca42277df5416ca20",
            "placeholder": "​",
            "style": "IPY_MODEL_82a9c06ab2ad451d849eb1bdaed4e93e",
            "value": " 1000/0 [00:00&lt;00:00, 6660.67 examples/s]"
          }
        },
        "97e9e6345f6d42ce895537b1f0d26b18": {
          "model_module": "@jupyter-widgets/controls",
          "model_module_version": "1.5.0",
          "model_name": "DescriptionStyleModel",
          "state": {
            "_model_module": "@jupyter-widgets/controls",
            "_model_module_version": "1.5.0",
            "_model_name": "DescriptionStyleModel",
            "_view_count": null,
            "_view_module": "@jupyter-widgets/base",
            "_view_module_version": "1.2.0",
            "_view_name": "StyleView",
            "description_width": ""
          }
        },
        "9aae9e022ba64018afc645125516e86f": {
          "model_module": "@jupyter-widgets/controls",
          "model_module_version": "1.5.0",
          "model_name": "HTMLModel",
          "state": {
            "_dom_classes": [],
            "_model_module": "@jupyter-widgets/controls",
            "_model_module_version": "1.5.0",
            "_model_name": "HTMLModel",
            "_view_count": null,
            "_view_module": "@jupyter-widgets/controls",
            "_view_module_version": "1.5.0",
            "_view_name": "HTMLView",
            "description": "",
            "description_tooltip": null,
            "layout": "IPY_MODEL_b190dc3b2d084a30a101e8ae264eadb0",
            "placeholder": "​",
            "style": "IPY_MODEL_76ebe01ffaa84ab9ab6158c45064414f",
            "value": " 800/800 [00:01&lt;00:00, 172.86 examples/s]"
          }
        },
        "a01a51578f3147d3825ad86155f7166c": {
          "model_module": "@jupyter-widgets/base",
          "model_module_version": "1.2.0",
          "model_name": "LayoutModel",
          "state": {
            "_model_module": "@jupyter-widgets/base",
            "_model_module_version": "1.2.0",
            "_model_name": "LayoutModel",
            "_view_count": null,
            "_view_module": "@jupyter-widgets/base",
            "_view_module_version": "1.2.0",
            "_view_name": "LayoutView",
            "align_content": null,
            "align_items": null,
            "align_self": null,
            "border": null,
            "bottom": null,
            "display": null,
            "flex": null,
            "flex_flow": null,
            "grid_area": null,
            "grid_auto_columns": null,
            "grid_auto_flow": null,
            "grid_auto_rows": null,
            "grid_column": null,
            "grid_gap": null,
            "grid_row": null,
            "grid_template_areas": null,
            "grid_template_columns": null,
            "grid_template_rows": null,
            "height": null,
            "justify_content": null,
            "justify_items": null,
            "left": null,
            "margin": null,
            "max_height": null,
            "max_width": null,
            "min_height": null,
            "min_width": null,
            "object_fit": null,
            "object_position": null,
            "order": null,
            "overflow": null,
            "overflow_x": null,
            "overflow_y": null,
            "padding": null,
            "right": null,
            "top": null,
            "visibility": null,
            "width": null
          }
        },
        "a2dc84fb846d4912a058782fb255f9fb": {
          "model_module": "@jupyter-widgets/base",
          "model_module_version": "1.2.0",
          "model_name": "LayoutModel",
          "state": {
            "_model_module": "@jupyter-widgets/base",
            "_model_module_version": "1.2.0",
            "_model_name": "LayoutModel",
            "_view_count": null,
            "_view_module": "@jupyter-widgets/base",
            "_view_module_version": "1.2.0",
            "_view_name": "LayoutView",
            "align_content": null,
            "align_items": null,
            "align_self": null,
            "border": null,
            "bottom": null,
            "display": null,
            "flex": null,
            "flex_flow": null,
            "grid_area": null,
            "grid_auto_columns": null,
            "grid_auto_flow": null,
            "grid_auto_rows": null,
            "grid_column": null,
            "grid_gap": null,
            "grid_row": null,
            "grid_template_areas": null,
            "grid_template_columns": null,
            "grid_template_rows": null,
            "height": null,
            "justify_content": null,
            "justify_items": null,
            "left": null,
            "margin": null,
            "max_height": null,
            "max_width": null,
            "min_height": null,
            "min_width": null,
            "object_fit": null,
            "object_position": null,
            "order": null,
            "overflow": null,
            "overflow_x": null,
            "overflow_y": null,
            "padding": null,
            "right": null,
            "top": null,
            "visibility": null,
            "width": null
          }
        },
        "b190dc3b2d084a30a101e8ae264eadb0": {
          "model_module": "@jupyter-widgets/base",
          "model_module_version": "1.2.0",
          "model_name": "LayoutModel",
          "state": {
            "_model_module": "@jupyter-widgets/base",
            "_model_module_version": "1.2.0",
            "_model_name": "LayoutModel",
            "_view_count": null,
            "_view_module": "@jupyter-widgets/base",
            "_view_module_version": "1.2.0",
            "_view_name": "LayoutView",
            "align_content": null,
            "align_items": null,
            "align_self": null,
            "border": null,
            "bottom": null,
            "display": null,
            "flex": null,
            "flex_flow": null,
            "grid_area": null,
            "grid_auto_columns": null,
            "grid_auto_flow": null,
            "grid_auto_rows": null,
            "grid_column": null,
            "grid_gap": null,
            "grid_row": null,
            "grid_template_areas": null,
            "grid_template_columns": null,
            "grid_template_rows": null,
            "height": null,
            "justify_content": null,
            "justify_items": null,
            "left": null,
            "margin": null,
            "max_height": null,
            "max_width": null,
            "min_height": null,
            "min_width": null,
            "object_fit": null,
            "object_position": null,
            "order": null,
            "overflow": null,
            "overflow_x": null,
            "overflow_y": null,
            "padding": null,
            "right": null,
            "top": null,
            "visibility": null,
            "width": null
          }
        },
        "b36a676858134fe2ac9ff87354ace113": {
          "model_module": "@jupyter-widgets/controls",
          "model_module_version": "1.5.0",
          "model_name": "DescriptionStyleModel",
          "state": {
            "_model_module": "@jupyter-widgets/controls",
            "_model_module_version": "1.5.0",
            "_model_name": "DescriptionStyleModel",
            "_view_count": null,
            "_view_module": "@jupyter-widgets/base",
            "_view_module_version": "1.2.0",
            "_view_name": "StyleView",
            "description_width": ""
          }
        },
        "bebcaeb157c54628885d6ab8d92e3a18": {
          "model_module": "@jupyter-widgets/controls",
          "model_module_version": "1.5.0",
          "model_name": "ProgressStyleModel",
          "state": {
            "_model_module": "@jupyter-widgets/controls",
            "_model_module_version": "1.5.0",
            "_model_name": "ProgressStyleModel",
            "_view_count": null,
            "_view_module": "@jupyter-widgets/base",
            "_view_module_version": "1.2.0",
            "_view_name": "StyleView",
            "bar_color": null,
            "description_width": ""
          }
        },
        "c31c5e5970284e1faac3e3302a727212": {
          "model_module": "@jupyter-widgets/base",
          "model_module_version": "1.2.0",
          "model_name": "LayoutModel",
          "state": {
            "_model_module": "@jupyter-widgets/base",
            "_model_module_version": "1.2.0",
            "_model_name": "LayoutModel",
            "_view_count": null,
            "_view_module": "@jupyter-widgets/base",
            "_view_module_version": "1.2.0",
            "_view_name": "LayoutView",
            "align_content": null,
            "align_items": null,
            "align_self": null,
            "border": null,
            "bottom": null,
            "display": null,
            "flex": null,
            "flex_flow": null,
            "grid_area": null,
            "grid_auto_columns": null,
            "grid_auto_flow": null,
            "grid_auto_rows": null,
            "grid_column": null,
            "grid_gap": null,
            "grid_row": null,
            "grid_template_areas": null,
            "grid_template_columns": null,
            "grid_template_rows": null,
            "height": null,
            "justify_content": null,
            "justify_items": null,
            "left": null,
            "margin": null,
            "max_height": null,
            "max_width": null,
            "min_height": null,
            "min_width": null,
            "object_fit": null,
            "object_position": null,
            "order": null,
            "overflow": null,
            "overflow_x": null,
            "overflow_y": null,
            "padding": null,
            "right": null,
            "top": null,
            "visibility": null,
            "width": "20px"
          }
        },
        "c6d911449b154c53bc0378576d371b46": {
          "model_module": "@jupyter-widgets/base",
          "model_module_version": "1.2.0",
          "model_name": "LayoutModel",
          "state": {
            "_model_module": "@jupyter-widgets/base",
            "_model_module_version": "1.2.0",
            "_model_name": "LayoutModel",
            "_view_count": null,
            "_view_module": "@jupyter-widgets/base",
            "_view_module_version": "1.2.0",
            "_view_name": "LayoutView",
            "align_content": null,
            "align_items": null,
            "align_self": null,
            "border": null,
            "bottom": null,
            "display": null,
            "flex": null,
            "flex_flow": null,
            "grid_area": null,
            "grid_auto_columns": null,
            "grid_auto_flow": null,
            "grid_auto_rows": null,
            "grid_column": null,
            "grid_gap": null,
            "grid_row": null,
            "grid_template_areas": null,
            "grid_template_columns": null,
            "grid_template_rows": null,
            "height": null,
            "justify_content": null,
            "justify_items": null,
            "left": null,
            "margin": null,
            "max_height": null,
            "max_width": null,
            "min_height": null,
            "min_width": null,
            "object_fit": null,
            "object_position": null,
            "order": null,
            "overflow": null,
            "overflow_x": null,
            "overflow_y": null,
            "padding": null,
            "right": null,
            "top": null,
            "visibility": null,
            "width": null
          }
        },
        "d58bd85899214d65ba62f3a8742efe32": {
          "model_module": "@jupyter-widgets/base",
          "model_module_version": "1.2.0",
          "model_name": "LayoutModel",
          "state": {
            "_model_module": "@jupyter-widgets/base",
            "_model_module_version": "1.2.0",
            "_model_name": "LayoutModel",
            "_view_count": null,
            "_view_module": "@jupyter-widgets/base",
            "_view_module_version": "1.2.0",
            "_view_name": "LayoutView",
            "align_content": null,
            "align_items": null,
            "align_self": null,
            "border": null,
            "bottom": null,
            "display": null,
            "flex": null,
            "flex_flow": null,
            "grid_area": null,
            "grid_auto_columns": null,
            "grid_auto_flow": null,
            "grid_auto_rows": null,
            "grid_column": null,
            "grid_gap": null,
            "grid_row": null,
            "grid_template_areas": null,
            "grid_template_columns": null,
            "grid_template_rows": null,
            "height": null,
            "justify_content": null,
            "justify_items": null,
            "left": null,
            "margin": null,
            "max_height": null,
            "max_width": null,
            "min_height": null,
            "min_width": null,
            "object_fit": null,
            "object_position": null,
            "order": null,
            "overflow": null,
            "overflow_x": null,
            "overflow_y": null,
            "padding": null,
            "right": null,
            "top": null,
            "visibility": null,
            "width": null
          }
        },
        "e5a38e8e48924e68846b9e6eb089dfb8": {
          "model_module": "@jupyter-widgets/controls",
          "model_module_version": "1.5.0",
          "model_name": "HTMLModel",
          "state": {
            "_dom_classes": [],
            "_model_module": "@jupyter-widgets/controls",
            "_model_module_version": "1.5.0",
            "_model_name": "HTMLModel",
            "_view_count": null,
            "_view_module": "@jupyter-widgets/controls",
            "_view_module_version": "1.5.0",
            "_view_name": "HTMLView",
            "description": "",
            "description_tooltip": null,
            "layout": "IPY_MODEL_a01a51578f3147d3825ad86155f7166c",
            "placeholder": "​",
            "style": "IPY_MODEL_97e9e6345f6d42ce895537b1f0d26b18",
            "value": "Map (num_proc=4): 100%"
          }
        },
        "ead1ea9f2f9048df85d5b9cdda61805a": {
          "model_module": "@jupyter-widgets/base",
          "model_module_version": "1.2.0",
          "model_name": "LayoutModel",
          "state": {
            "_model_module": "@jupyter-widgets/base",
            "_model_module_version": "1.2.0",
            "_model_name": "LayoutModel",
            "_view_count": null,
            "_view_module": "@jupyter-widgets/base",
            "_view_module_version": "1.2.0",
            "_view_name": "LayoutView",
            "align_content": null,
            "align_items": null,
            "align_self": null,
            "border": null,
            "bottom": null,
            "display": null,
            "flex": null,
            "flex_flow": null,
            "grid_area": null,
            "grid_auto_columns": null,
            "grid_auto_flow": null,
            "grid_auto_rows": null,
            "grid_column": null,
            "grid_gap": null,
            "grid_row": null,
            "grid_template_areas": null,
            "grid_template_columns": null,
            "grid_template_rows": null,
            "height": null,
            "justify_content": null,
            "justify_items": null,
            "left": null,
            "margin": null,
            "max_height": null,
            "max_width": null,
            "min_height": null,
            "min_width": null,
            "object_fit": null,
            "object_position": null,
            "order": null,
            "overflow": null,
            "overflow_x": null,
            "overflow_y": null,
            "padding": null,
            "right": null,
            "top": null,
            "visibility": null,
            "width": null
          }
        },
        "f99407671b4743148365472a91b29c2e": {
          "model_module": "@jupyter-widgets/controls",
          "model_module_version": "1.5.0",
          "model_name": "FloatProgressModel",
          "state": {
            "_dom_classes": [],
            "_model_module": "@jupyter-widgets/controls",
            "_model_module_version": "1.5.0",
            "_model_name": "FloatProgressModel",
            "_view_count": null,
            "_view_module": "@jupyter-widgets/controls",
            "_view_module_version": "1.5.0",
            "_view_name": "ProgressView",
            "bar_style": "success",
            "description": "",
            "description_tooltip": null,
            "layout": "IPY_MODEL_03c5b56ce7ab4ed584e4caa9c6b642c6",
            "max": 800,
            "min": 0,
            "orientation": "horizontal",
            "style": "IPY_MODEL_76931a269e504bd6aeff886d71b03c1d",
            "value": 800
          }
        },
        "fbca04b1c19147f1a390aafa6101c11c": {
          "model_module": "@jupyter-widgets/base",
          "model_module_version": "1.2.0",
          "model_name": "LayoutModel",
          "state": {
            "_model_module": "@jupyter-widgets/base",
            "_model_module_version": "1.2.0",
            "_model_name": "LayoutModel",
            "_view_count": null,
            "_view_module": "@jupyter-widgets/base",
            "_view_module_version": "1.2.0",
            "_view_name": "LayoutView",
            "align_content": null,
            "align_items": null,
            "align_self": null,
            "border": null,
            "bottom": null,
            "display": null,
            "flex": null,
            "flex_flow": null,
            "grid_area": null,
            "grid_auto_columns": null,
            "grid_auto_flow": null,
            "grid_auto_rows": null,
            "grid_column": null,
            "grid_gap": null,
            "grid_row": null,
            "grid_template_areas": null,
            "grid_template_columns": null,
            "grid_template_rows": null,
            "height": null,
            "justify_content": null,
            "justify_items": null,
            "left": null,
            "margin": null,
            "max_height": null,
            "max_width": null,
            "min_height": null,
            "min_width": null,
            "object_fit": null,
            "object_position": null,
            "order": null,
            "overflow": null,
            "overflow_x": null,
            "overflow_y": null,
            "padding": null,
            "right": null,
            "top": null,
            "visibility": null,
            "width": null
          }
        }
      }
    }
  },
  "nbformat": 4,
  "nbformat_minor": 0
}
